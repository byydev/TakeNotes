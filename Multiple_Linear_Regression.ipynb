{
 "cells": [
  {
   "cell_type": "code",
   "execution_count": 1,
   "id": "378e552a",
   "metadata": {
    "_cell_guid": "b1076dfc-b9ad-4769-8c92-a6c4dae69d19",
    "_uuid": "8f2839f25d086af736a60e9eeb907d3b93b6e0e5",
    "execution": {
     "iopub.execute_input": "2025-10-02T19:35:53.707891Z",
     "iopub.status.busy": "2025-10-02T19:35:53.707579Z",
     "iopub.status.idle": "2025-10-02T19:35:55.610131Z",
     "shell.execute_reply": "2025-10-02T19:35:55.609084Z"
    },
    "papermill": {
     "duration": 1.913232,
     "end_time": "2025-10-02T19:35:55.611818",
     "exception": false,
     "start_time": "2025-10-02T19:35:53.698586",
     "status": "completed"
    },
    "tags": []
   },
   "outputs": [
    {
     "name": "stdout",
     "output_type": "stream",
     "text": [
      "/kaggle/input/exercise-1/3-customersatisfaction.csv\n",
      "/kaggle/input/exercise-1/1-studyhours.csv\n",
      "/kaggle/input/exercise-1/2-multiplegradesdataset.csv\n"
     ]
    }
   ],
   "source": [
    "# This Python 3 environment comes with many helpful analytics libraries installed\n",
    "# It is defined by the kaggle/python Docker image: https://github.com/kaggle/docker-python\n",
    "# For example, here's several helpful packages to load\n",
    "\n",
    "import numpy as np # linear algebra\n",
    "import pandas as pd # data processing, CSV file I/O (e.g. pd.read_csv)\n",
    "\n",
    "# Input data files are available in the read-only \"../input/\" directory\n",
    "# For example, running this (by clicking run or pressing Shift+Enter) will list all files under the input directory\n",
    "\n",
    "import os\n",
    "for dirname, _, filenames in os.walk('/kaggle/input'):\n",
    "    for filename in filenames:\n",
    "        print(os.path.join(dirname, filename))\n",
    "\n",
    "# You can write up to 20GB to the current directory (/kaggle/working/) that gets preserved as output when you create a version using \"Save & Run All\" \n",
    "# You can also write temporary files to /kaggle/temp/, but they won't be saved outside of the current session"
   ]
  },
  {
   "cell_type": "code",
   "execution_count": 2,
   "id": "3c272886",
   "metadata": {
    "execution": {
     "iopub.execute_input": "2025-10-02T19:35:55.624639Z",
     "iopub.status.busy": "2025-10-02T19:35:55.624186Z",
     "iopub.status.idle": "2025-10-02T19:35:57.486682Z",
     "shell.execute_reply": "2025-10-02T19:35:57.485806Z"
    },
    "papermill": {
     "duration": 1.870931,
     "end_time": "2025-10-02T19:35:57.488701",
     "exception": false,
     "start_time": "2025-10-02T19:35:55.617770",
     "status": "completed"
    },
    "tags": []
   },
   "outputs": [],
   "source": [
    "import matplotlib.pyplot as plt \n",
    "import seaborn as sns"
   ]
  },
  {
   "cell_type": "code",
   "execution_count": 3,
   "id": "e37a2c50",
   "metadata": {
    "execution": {
     "iopub.execute_input": "2025-10-02T19:35:57.502738Z",
     "iopub.status.busy": "2025-10-02T19:35:57.501688Z",
     "iopub.status.idle": "2025-10-02T19:35:57.518330Z",
     "shell.execute_reply": "2025-10-02T19:35:57.517423Z"
    },
    "papermill": {
     "duration": 0.025178,
     "end_time": "2025-10-02T19:35:57.520043",
     "exception": false,
     "start_time": "2025-10-02T19:35:57.494865",
     "status": "completed"
    },
    "tags": []
   },
   "outputs": [],
   "source": [
    "df=pd.read_csv('/kaggle/input/exercise-1/2-multiplegradesdataset.csv')"
   ]
  },
  {
   "cell_type": "code",
   "execution_count": 4,
   "id": "a7a53f6a",
   "metadata": {
    "execution": {
     "iopub.execute_input": "2025-10-02T19:35:57.532667Z",
     "iopub.status.busy": "2025-10-02T19:35:57.532322Z",
     "iopub.status.idle": "2025-10-02T19:35:57.557376Z",
     "shell.execute_reply": "2025-10-02T19:35:57.556467Z"
    },
    "papermill": {
     "duration": 0.032997,
     "end_time": "2025-10-02T19:35:57.558855",
     "exception": false,
     "start_time": "2025-10-02T19:35:57.525858",
     "status": "completed"
    },
    "tags": []
   },
   "outputs": [
    {
     "data": {
      "text/html": [
       "<div>\n",
       "<style scoped>\n",
       "    .dataframe tbody tr th:only-of-type {\n",
       "        vertical-align: middle;\n",
       "    }\n",
       "\n",
       "    .dataframe tbody tr th {\n",
       "        vertical-align: top;\n",
       "    }\n",
       "\n",
       "    .dataframe thead th {\n",
       "        text-align: right;\n",
       "    }\n",
       "</style>\n",
       "<table border=\"1\" class=\"dataframe\">\n",
       "  <thead>\n",
       "    <tr style=\"text-align: right;\">\n",
       "      <th></th>\n",
       "      <th>Study Hours</th>\n",
       "      <th>Sleep Hours</th>\n",
       "      <th>Attendance Rate</th>\n",
       "      <th>Social Media Hours</th>\n",
       "      <th>Exam Score</th>\n",
       "    </tr>\n",
       "  </thead>\n",
       "  <tbody>\n",
       "    <tr>\n",
       "      <th>0</th>\n",
       "      <td>4.7</td>\n",
       "      <td>7.3</td>\n",
       "      <td>82.9</td>\n",
       "      <td>3.3</td>\n",
       "      <td>80.7</td>\n",
       "    </tr>\n",
       "    <tr>\n",
       "      <th>1</th>\n",
       "      <td>3.8</td>\n",
       "      <td>6.6</td>\n",
       "      <td>87.9</td>\n",
       "      <td>3.3</td>\n",
       "      <td>76.0</td>\n",
       "    </tr>\n",
       "    <tr>\n",
       "      <th>2</th>\n",
       "      <td>5.0</td>\n",
       "      <td>6.3</td>\n",
       "      <td>88.3</td>\n",
       "      <td>2.3</td>\n",
       "      <td>89.1</td>\n",
       "    </tr>\n",
       "    <tr>\n",
       "      <th>3</th>\n",
       "      <td>6.3</td>\n",
       "      <td>7.6</td>\n",
       "      <td>86.0</td>\n",
       "      <td>3.2</td>\n",
       "      <td>95.9</td>\n",
       "    </tr>\n",
       "    <tr>\n",
       "      <th>4</th>\n",
       "      <td>3.6</td>\n",
       "      <td>8.0</td>\n",
       "      <td>89.2</td>\n",
       "      <td>3.3</td>\n",
       "      <td>70.5</td>\n",
       "    </tr>\n",
       "  </tbody>\n",
       "</table>\n",
       "</div>"
      ],
      "text/plain": [
       "   Study Hours  Sleep Hours  Attendance Rate  Social Media Hours  Exam Score\n",
       "0          4.7          7.3             82.9                 3.3        80.7\n",
       "1          3.8          6.6             87.9                 3.3        76.0\n",
       "2          5.0          6.3             88.3                 2.3        89.1\n",
       "3          6.3          7.6             86.0                 3.2        95.9\n",
       "4          3.6          8.0             89.2                 3.3        70.5"
      ]
     },
     "execution_count": 4,
     "metadata": {},
     "output_type": "execute_result"
    }
   ],
   "source": [
    "df.head()"
   ]
  },
  {
   "cell_type": "code",
   "execution_count": 5,
   "id": "27d66794",
   "metadata": {
    "execution": {
     "iopub.execute_input": "2025-10-02T19:35:57.571713Z",
     "iopub.status.busy": "2025-10-02T19:35:57.571412Z",
     "iopub.status.idle": "2025-10-02T19:35:57.610458Z",
     "shell.execute_reply": "2025-10-02T19:35:57.609554Z"
    },
    "papermill": {
     "duration": 0.047335,
     "end_time": "2025-10-02T19:35:57.612169",
     "exception": false,
     "start_time": "2025-10-02T19:35:57.564834",
     "status": "completed"
    },
    "tags": []
   },
   "outputs": [
    {
     "data": {
      "text/html": [
       "<div>\n",
       "<style scoped>\n",
       "    .dataframe tbody tr th:only-of-type {\n",
       "        vertical-align: middle;\n",
       "    }\n",
       "\n",
       "    .dataframe tbody tr th {\n",
       "        vertical-align: top;\n",
       "    }\n",
       "\n",
       "    .dataframe thead th {\n",
       "        text-align: right;\n",
       "    }\n",
       "</style>\n",
       "<table border=\"1\" class=\"dataframe\">\n",
       "  <thead>\n",
       "    <tr style=\"text-align: right;\">\n",
       "      <th></th>\n",
       "      <th>Study Hours</th>\n",
       "      <th>Sleep Hours</th>\n",
       "      <th>Attendance Rate</th>\n",
       "      <th>Social Media Hours</th>\n",
       "      <th>Exam Score</th>\n",
       "    </tr>\n",
       "  </thead>\n",
       "  <tbody>\n",
       "    <tr>\n",
       "      <th>count</th>\n",
       "      <td>50.00000</td>\n",
       "      <td>50.000000</td>\n",
       "      <td>50.000000</td>\n",
       "      <td>50.00000</td>\n",
       "      <td>50.00000</td>\n",
       "    </tr>\n",
       "    <tr>\n",
       "      <th>mean</th>\n",
       "      <td>3.66800</td>\n",
       "      <td>7.022000</td>\n",
       "      <td>89.736000</td>\n",
       "      <td>3.09000</td>\n",
       "      <td>76.07000</td>\n",
       "    </tr>\n",
       "    <tr>\n",
       "      <th>std</th>\n",
       "      <td>1.40123</td>\n",
       "      <td>0.874419</td>\n",
       "      <td>4.924813</td>\n",
       "      <td>0.89699</td>\n",
       "      <td>11.70915</td>\n",
       "    </tr>\n",
       "    <tr>\n",
       "      <th>min</th>\n",
       "      <td>1.10000</td>\n",
       "      <td>4.400000</td>\n",
       "      <td>80.400000</td>\n",
       "      <td>1.50000</td>\n",
       "      <td>56.90000</td>\n",
       "    </tr>\n",
       "    <tr>\n",
       "      <th>25%</th>\n",
       "      <td>2.67500</td>\n",
       "      <td>6.500000</td>\n",
       "      <td>85.625000</td>\n",
       "      <td>2.22500</td>\n",
       "      <td>68.07500</td>\n",
       "    </tr>\n",
       "    <tr>\n",
       "      <th>50%</th>\n",
       "      <td>3.60000</td>\n",
       "      <td>7.050000</td>\n",
       "      <td>90.100000</td>\n",
       "      <td>3.20000</td>\n",
       "      <td>73.55000</td>\n",
       "    </tr>\n",
       "    <tr>\n",
       "      <th>75%</th>\n",
       "      <td>4.50000</td>\n",
       "      <td>7.575000</td>\n",
       "      <td>92.550000</td>\n",
       "      <td>3.57500</td>\n",
       "      <td>84.17500</td>\n",
       "    </tr>\n",
       "    <tr>\n",
       "      <th>max</th>\n",
       "      <td>6.80000</td>\n",
       "      <td>8.600000</td>\n",
       "      <td>100.000000</td>\n",
       "      <td>5.70000</td>\n",
       "      <td>100.00000</td>\n",
       "    </tr>\n",
       "  </tbody>\n",
       "</table>\n",
       "</div>"
      ],
      "text/plain": [
       "       Study Hours  Sleep Hours  Attendance Rate  Social Media Hours  \\\n",
       "count     50.00000    50.000000        50.000000            50.00000   \n",
       "mean       3.66800     7.022000        89.736000             3.09000   \n",
       "std        1.40123     0.874419         4.924813             0.89699   \n",
       "min        1.10000     4.400000        80.400000             1.50000   \n",
       "25%        2.67500     6.500000        85.625000             2.22500   \n",
       "50%        3.60000     7.050000        90.100000             3.20000   \n",
       "75%        4.50000     7.575000        92.550000             3.57500   \n",
       "max        6.80000     8.600000       100.000000             5.70000   \n",
       "\n",
       "       Exam Score  \n",
       "count    50.00000  \n",
       "mean     76.07000  \n",
       "std      11.70915  \n",
       "min      56.90000  \n",
       "25%      68.07500  \n",
       "50%      73.55000  \n",
       "75%      84.17500  \n",
       "max     100.00000  "
      ]
     },
     "execution_count": 5,
     "metadata": {},
     "output_type": "execute_result"
    }
   ],
   "source": [
    "df.describe()"
   ]
  },
  {
   "cell_type": "code",
   "execution_count": 6,
   "id": "add0561b",
   "metadata": {
    "execution": {
     "iopub.execute_input": "2025-10-02T19:35:57.625063Z",
     "iopub.status.busy": "2025-10-02T19:35:57.624752Z",
     "iopub.status.idle": "2025-10-02T19:35:57.644267Z",
     "shell.execute_reply": "2025-10-02T19:35:57.643278Z"
    },
    "papermill": {
     "duration": 0.027532,
     "end_time": "2025-10-02T19:35:57.645634",
     "exception": false,
     "start_time": "2025-10-02T19:35:57.618102",
     "status": "completed"
    },
    "tags": []
   },
   "outputs": [
    {
     "name": "stdout",
     "output_type": "stream",
     "text": [
      "<class 'pandas.core.frame.DataFrame'>\n",
      "RangeIndex: 50 entries, 0 to 49\n",
      "Data columns (total 5 columns):\n",
      " #   Column              Non-Null Count  Dtype  \n",
      "---  ------              --------------  -----  \n",
      " 0   Study Hours         50 non-null     float64\n",
      " 1   Sleep Hours         50 non-null     float64\n",
      " 2   Attendance Rate     50 non-null     float64\n",
      " 3   Social Media Hours  50 non-null     float64\n",
      " 4   Exam Score          50 non-null     float64\n",
      "dtypes: float64(5)\n",
      "memory usage: 2.1 KB\n"
     ]
    }
   ],
   "source": [
    "df.info()"
   ]
  },
  {
   "cell_type": "code",
   "execution_count": 7,
   "id": "868f5087",
   "metadata": {
    "execution": {
     "iopub.execute_input": "2025-10-02T19:35:57.658937Z",
     "iopub.status.busy": "2025-10-02T19:35:57.658644Z",
     "iopub.status.idle": "2025-10-02T19:35:57.665100Z",
     "shell.execute_reply": "2025-10-02T19:35:57.664328Z"
    },
    "papermill": {
     "duration": 0.014239,
     "end_time": "2025-10-02T19:35:57.666369",
     "exception": false,
     "start_time": "2025-10-02T19:35:57.652130",
     "status": "completed"
    },
    "tags": []
   },
   "outputs": [
    {
     "data": {
      "text/plain": [
       "Study Hours           0\n",
       "Sleep Hours           0\n",
       "Attendance Rate       0\n",
       "Social Media Hours    0\n",
       "Exam Score            0\n",
       "dtype: int64"
      ]
     },
     "execution_count": 7,
     "metadata": {},
     "output_type": "execute_result"
    }
   ],
   "source": [
    "df.isnull().sum()"
   ]
  },
  {
   "cell_type": "code",
   "execution_count": 8,
   "id": "d76f5e8e",
   "metadata": {
    "execution": {
     "iopub.execute_input": "2025-10-02T19:35:57.679914Z",
     "iopub.status.busy": "2025-10-02T19:35:57.679588Z",
     "iopub.status.idle": "2025-10-02T19:36:03.107832Z",
     "shell.execute_reply": "2025-10-02T19:36:03.106555Z"
    },
    "papermill": {
     "duration": 5.437255,
     "end_time": "2025-10-02T19:36:03.109989",
     "exception": false,
     "start_time": "2025-10-02T19:35:57.672734",
     "status": "completed"
    },
    "tags": []
   },
   "outputs": [
    {
     "name": "stderr",
     "output_type": "stream",
     "text": [
      "/usr/local/lib/python3.11/dist-packages/seaborn/_oldcore.py:1119: FutureWarning: use_inf_as_na option is deprecated and will be removed in a future version. Convert inf values to NaN before operating instead.\n",
      "  with pd.option_context('mode.use_inf_as_na', True):\n",
      "/usr/local/lib/python3.11/dist-packages/seaborn/_oldcore.py:1119: FutureWarning: use_inf_as_na option is deprecated and will be removed in a future version. Convert inf values to NaN before operating instead.\n",
      "  with pd.option_context('mode.use_inf_as_na', True):\n",
      "/usr/local/lib/python3.11/dist-packages/seaborn/_oldcore.py:1119: FutureWarning: use_inf_as_na option is deprecated and will be removed in a future version. Convert inf values to NaN before operating instead.\n",
      "  with pd.option_context('mode.use_inf_as_na', True):\n",
      "/usr/local/lib/python3.11/dist-packages/seaborn/_oldcore.py:1119: FutureWarning: use_inf_as_na option is deprecated and will be removed in a future version. Convert inf values to NaN before operating instead.\n",
      "  with pd.option_context('mode.use_inf_as_na', True):\n",
      "/usr/local/lib/python3.11/dist-packages/seaborn/_oldcore.py:1119: FutureWarning: use_inf_as_na option is deprecated and will be removed in a future version. Convert inf values to NaN before operating instead.\n",
      "  with pd.option_context('mode.use_inf_as_na', True):\n",
      "/usr/local/lib/python3.11/dist-packages/seaborn/axisgrid.py:118: UserWarning: The figure layout has changed to tight\n",
      "  self._figure.tight_layout(*args, **kwargs)\n"
     ]
    },
    {
     "data": {
      "image/png": "[encoded data removed]",
      "text/plain": [
       "<Figure size 1250x1250 with 30 Axes>"
      ]
     },
     "metadata": {},
     "output_type": "display_data"
    }
   ],
   "source": [
    "sns.pairplot(df)\n",
    "plt.show()"
   ]
  },
  {
   "cell_type": "code",
   "execution_count": 9,
   "id": "6ba33e18",
   "metadata": {
    "execution": {
     "iopub.execute_input": "2025-10-02T19:36:03.127224Z",
     "iopub.status.busy": "2025-10-02T19:36:03.126870Z",
     "iopub.status.idle": "2025-10-02T19:36:03.139557Z",
     "shell.execute_reply": "2025-10-02T19:36:03.138715Z"
    },
    "papermill": {
     "duration": 0.022778,
     "end_time": "2025-10-02T19:36:03.140885",
     "exception": false,
     "start_time": "2025-10-02T19:36:03.118107",
     "status": "completed"
    },
    "tags": []
   },
   "outputs": [
    {
     "data": {
      "text/html": [
       "<div>\n",
       "<style scoped>\n",
       "    .dataframe tbody tr th:only-of-type {\n",
       "        vertical-align: middle;\n",
       "    }\n",
       "\n",
       "    .dataframe tbody tr th {\n",
       "        vertical-align: top;\n",
       "    }\n",
       "\n",
       "    .dataframe thead th {\n",
       "        text-align: right;\n",
       "    }\n",
       "</style>\n",
       "<table border=\"1\" class=\"dataframe\">\n",
       "  <thead>\n",
       "    <tr style=\"text-align: right;\">\n",
       "      <th></th>\n",
       "      <th>Study Hours</th>\n",
       "      <th>Sleep Hours</th>\n",
       "      <th>Attendance Rate</th>\n",
       "      <th>Social Media Hours</th>\n",
       "      <th>Exam Score</th>\n",
       "    </tr>\n",
       "  </thead>\n",
       "  <tbody>\n",
       "    <tr>\n",
       "      <th>Study Hours</th>\n",
       "      <td>1.000000</td>\n",
       "      <td>0.114015</td>\n",
       "      <td>-0.112860</td>\n",
       "      <td>0.115023</td>\n",
       "      <td>0.804266</td>\n",
       "    </tr>\n",
       "    <tr>\n",
       "      <th>Sleep Hours</th>\n",
       "      <td>0.114015</td>\n",
       "      <td>1.000000</td>\n",
       "      <td>-0.222024</td>\n",
       "      <td>-0.177166</td>\n",
       "      <td>0.227694</td>\n",
       "    </tr>\n",
       "    <tr>\n",
       "      <th>Attendance Rate</th>\n",
       "      <td>-0.112860</td>\n",
       "      <td>-0.222024</td>\n",
       "      <td>1.000000</td>\n",
       "      <td>0.068272</td>\n",
       "      <td>0.123791</td>\n",
       "    </tr>\n",
       "    <tr>\n",
       "      <th>Social Media Hours</th>\n",
       "      <td>0.115023</td>\n",
       "      <td>-0.177166</td>\n",
       "      <td>0.068272</td>\n",
       "      <td>1.000000</td>\n",
       "      <td>-0.248743</td>\n",
       "    </tr>\n",
       "    <tr>\n",
       "      <th>Exam Score</th>\n",
       "      <td>0.804266</td>\n",
       "      <td>0.227694</td>\n",
       "      <td>0.123791</td>\n",
       "      <td>-0.248743</td>\n",
       "      <td>1.000000</td>\n",
       "    </tr>\n",
       "  </tbody>\n",
       "</table>\n",
       "</div>"
      ],
      "text/plain": [
       "                    Study Hours  Sleep Hours  Attendance Rate  \\\n",
       "Study Hours            1.000000     0.114015        -0.112860   \n",
       "Sleep Hours            0.114015     1.000000        -0.222024   \n",
       "Attendance Rate       -0.112860    -0.222024         1.000000   \n",
       "Social Media Hours     0.115023    -0.177166         0.068272   \n",
       "Exam Score             0.804266     0.227694         0.123791   \n",
       "\n",
       "                    Social Media Hours  Exam Score  \n",
       "Study Hours                   0.115023    0.804266  \n",
       "Sleep Hours                  -0.177166    0.227694  \n",
       "Attendance Rate               0.068272    0.123791  \n",
       "Social Media Hours            1.000000   -0.248743  \n",
       "Exam Score                   -0.248743    1.000000  "
      ]
     },
     "execution_count": 9,
     "metadata": {},
     "output_type": "execute_result"
    }
   ],
   "source": [
    "df.corr()"
   ]
  },
  {
   "cell_type": "code",
   "execution_count": 10,
   "id": "a21668ed",
   "metadata": {
    "execution": {
     "iopub.execute_input": "2025-10-02T19:36:03.158048Z",
     "iopub.status.busy": "2025-10-02T19:36:03.157689Z",
     "iopub.status.idle": "2025-10-02T19:36:03.301439Z",
     "shell.execute_reply": "2025-10-02T19:36:03.300387Z"
    },
    "papermill": {
     "duration": 0.15425,
     "end_time": "2025-10-02T19:36:03.303135",
     "exception": false,
     "start_time": "2025-10-02T19:36:03.148885",
     "status": "completed"
    },
    "tags": []
   },
   "outputs": [
    {
     "data": {
      "image/png": "[encoded data removed]",
      "text/plain": [
       "<Figure size 640x480 with 1 Axes>"
      ]
     },
     "metadata": {},
     "output_type": "display_data"
    }
   ],
   "source": [
    "plt.scatter(df['Study Hours'],df['Exam Score'], color='r')\n",
    "plt.xlabel('Study Hours')\n",
    "plt.ylabel(\"Exam Score\")\n",
    "plt.show()"
   ]
  },
  {
   "cell_type": "code",
   "execution_count": 11,
   "id": "4bea269c",
   "metadata": {
    "execution": {
     "iopub.execute_input": "2025-10-02T19:36:03.320517Z",
     "iopub.status.busy": "2025-10-02T19:36:03.320198Z",
     "iopub.status.idle": "2025-10-02T19:36:03.609220Z",
     "shell.execute_reply": "2025-10-02T19:36:03.608341Z"
    },
    "papermill": {
     "duration": 0.299493,
     "end_time": "2025-10-02T19:36:03.610868",
     "exception": false,
     "start_time": "2025-10-02T19:36:03.311375",
     "status": "completed"
    },
    "tags": []
   },
   "outputs": [
    {
     "data": {
      "image/png": "[encoded data removed]",
      "text/plain": [
       "<Figure size 640x480 with 1 Axes>"
      ]
     },
     "metadata": {},
     "output_type": "display_data"
    }
   ],
   "source": [
    "sns.regplot(x=df[\"Study Hours\"],y=df['Exam Score'])\n",
    "plt.show()"
   ]
  },
  {
   "cell_type": "code",
   "execution_count": 12,
   "id": "a7c8b960",
   "metadata": {
    "execution": {
     "iopub.execute_input": "2025-10-02T19:36:03.630275Z",
     "iopub.status.busy": "2025-10-02T19:36:03.629994Z",
     "iopub.status.idle": "2025-10-02T19:36:03.843103Z",
     "shell.execute_reply": "2025-10-02T19:36:03.842324Z"
    },
    "papermill": {
     "duration": 0.224332,
     "end_time": "2025-10-02T19:36:03.844619",
     "exception": false,
     "start_time": "2025-10-02T19:36:03.620287",
     "status": "completed"
    },
    "tags": []
   },
   "outputs": [
    {
     "data": {
      "image/png": "[encoded data removed]",
      "text/plain": [
       "<Figure size 640x480 with 1 Axes>"
      ]
     },
     "metadata": {},
     "output_type": "display_data"
    }
   ],
   "source": [
    "sns.regplot(x=df['Social Media Hours'],y=df['Exam Score'])\n",
    "plt.show()"
   ]
  },
  {
   "cell_type": "code",
   "execution_count": 13,
   "id": "f1e50e79",
   "metadata": {
    "execution": {
     "iopub.execute_input": "2025-10-02T19:36:03.864820Z",
     "iopub.status.busy": "2025-10-02T19:36:03.864090Z",
     "iopub.status.idle": "2025-10-02T19:36:03.874927Z",
     "shell.execute_reply": "2025-10-02T19:36:03.874105Z"
    },
    "papermill": {
     "duration": 0.022393,
     "end_time": "2025-10-02T19:36:03.876356",
     "exception": false,
     "start_time": "2025-10-02T19:36:03.853963",
     "status": "completed"
    },
    "tags": []
   },
   "outputs": [
    {
     "data": {
      "text/html": [
       "<div>\n",
       "<style scoped>\n",
       "    .dataframe tbody tr th:only-of-type {\n",
       "        vertical-align: middle;\n",
       "    }\n",
       "\n",
       "    .dataframe tbody tr th {\n",
       "        vertical-align: top;\n",
       "    }\n",
       "\n",
       "    .dataframe thead th {\n",
       "        text-align: right;\n",
       "    }\n",
       "</style>\n",
       "<table border=\"1\" class=\"dataframe\">\n",
       "  <thead>\n",
       "    <tr style=\"text-align: right;\">\n",
       "      <th></th>\n",
       "      <th>Study Hours</th>\n",
       "      <th>Sleep Hours</th>\n",
       "      <th>Attendance Rate</th>\n",
       "      <th>Social Media Hours</th>\n",
       "      <th>Exam Score</th>\n",
       "    </tr>\n",
       "  </thead>\n",
       "  <tbody>\n",
       "    <tr>\n",
       "      <th>45</th>\n",
       "      <td>2.9</td>\n",
       "      <td>5.5</td>\n",
       "      <td>93.9</td>\n",
       "      <td>3.4</td>\n",
       "      <td>65.9</td>\n",
       "    </tr>\n",
       "    <tr>\n",
       "      <th>46</th>\n",
       "      <td>3.3</td>\n",
       "      <td>7.3</td>\n",
       "      <td>83.8</td>\n",
       "      <td>2.1</td>\n",
       "      <td>72.8</td>\n",
       "    </tr>\n",
       "    <tr>\n",
       "      <th>47</th>\n",
       "      <td>5.6</td>\n",
       "      <td>7.3</td>\n",
       "      <td>83.4</td>\n",
       "      <td>3.2</td>\n",
       "      <td>81.1</td>\n",
       "    </tr>\n",
       "    <tr>\n",
       "      <th>48</th>\n",
       "      <td>4.5</td>\n",
       "      <td>7.0</td>\n",
       "      <td>92.6</td>\n",
       "      <td>3.1</td>\n",
       "      <td>91.0</td>\n",
       "    </tr>\n",
       "    <tr>\n",
       "      <th>49</th>\n",
       "      <td>1.4</td>\n",
       "      <td>6.8</td>\n",
       "      <td>91.5</td>\n",
       "      <td>1.9</td>\n",
       "      <td>68.8</td>\n",
       "    </tr>\n",
       "  </tbody>\n",
       "</table>\n",
       "</div>"
      ],
      "text/plain": [
       "    Study Hours  Sleep Hours  Attendance Rate  Social Media Hours  Exam Score\n",
       "45          2.9          5.5             93.9                 3.4        65.9\n",
       "46          3.3          7.3             83.8                 2.1        72.8\n",
       "47          5.6          7.3             83.4                 3.2        81.1\n",
       "48          4.5          7.0             92.6                 3.1        91.0\n",
       "49          1.4          6.8             91.5                 1.9        68.8"
      ]
     },
     "execution_count": 13,
     "metadata": {},
     "output_type": "execute_result"
    }
   ],
   "source": [
    "df.tail()"
   ]
  },
  {
   "cell_type": "code",
   "execution_count": 14,
   "id": "1513d3bf",
   "metadata": {
    "execution": {
     "iopub.execute_input": "2025-10-02T19:36:03.896403Z",
     "iopub.status.busy": "2025-10-02T19:36:03.896118Z",
     "iopub.status.idle": "2025-10-02T19:36:03.900815Z",
     "shell.execute_reply": "2025-10-02T19:36:03.899928Z"
    },
    "papermill": {
     "duration": 0.016444,
     "end_time": "2025-10-02T19:36:03.902332",
     "exception": false,
     "start_time": "2025-10-02T19:36:03.885888",
     "status": "completed"
    },
    "tags": []
   },
   "outputs": [],
   "source": [
    "#Independent and dependent features\n",
    "X=df.iloc[:,:-1] #means all rows, columns except last one column ->features\n",
    "y = df.iloc[:,-1] #means all rows, only the last column -> target"
   ]
  },
  {
   "cell_type": "code",
   "execution_count": 15,
   "id": "2849534c",
   "metadata": {
    "execution": {
     "iopub.execute_input": "2025-10-02T19:36:03.923318Z",
     "iopub.status.busy": "2025-10-02T19:36:03.923025Z",
     "iopub.status.idle": "2025-10-02T19:36:03.933937Z",
     "shell.execute_reply": "2025-10-02T19:36:03.933147Z"
    },
    "papermill": {
     "duration": 0.023208,
     "end_time": "2025-10-02T19:36:03.935307",
     "exception": false,
     "start_time": "2025-10-02T19:36:03.912099",
     "status": "completed"
    },
    "tags": []
   },
   "outputs": [
    {
     "data": {
      "text/html": [
       "<div>\n",
       "<style scoped>\n",
       "    .dataframe tbody tr th:only-of-type {\n",
       "        vertical-align: middle;\n",
       "    }\n",
       "\n",
       "    .dataframe tbody tr th {\n",
       "        vertical-align: top;\n",
       "    }\n",
       "\n",
       "    .dataframe thead th {\n",
       "        text-align: right;\n",
       "    }\n",
       "</style>\n",
       "<table border=\"1\" class=\"dataframe\">\n",
       "  <thead>\n",
       "    <tr style=\"text-align: right;\">\n",
       "      <th></th>\n",
       "      <th>Study Hours</th>\n",
       "      <th>Sleep Hours</th>\n",
       "      <th>Attendance Rate</th>\n",
       "      <th>Social Media Hours</th>\n",
       "    </tr>\n",
       "  </thead>\n",
       "  <tbody>\n",
       "    <tr>\n",
       "      <th>0</th>\n",
       "      <td>4.7</td>\n",
       "      <td>7.3</td>\n",
       "      <td>82.9</td>\n",
       "      <td>3.3</td>\n",
       "    </tr>\n",
       "    <tr>\n",
       "      <th>1</th>\n",
       "      <td>3.8</td>\n",
       "      <td>6.6</td>\n",
       "      <td>87.9</td>\n",
       "      <td>3.3</td>\n",
       "    </tr>\n",
       "    <tr>\n",
       "      <th>2</th>\n",
       "      <td>5.0</td>\n",
       "      <td>6.3</td>\n",
       "      <td>88.3</td>\n",
       "      <td>2.3</td>\n",
       "    </tr>\n",
       "    <tr>\n",
       "      <th>3</th>\n",
       "      <td>6.3</td>\n",
       "      <td>7.6</td>\n",
       "      <td>86.0</td>\n",
       "      <td>3.2</td>\n",
       "    </tr>\n",
       "    <tr>\n",
       "      <th>4</th>\n",
       "      <td>3.6</td>\n",
       "      <td>8.0</td>\n",
       "      <td>89.2</td>\n",
       "      <td>3.3</td>\n",
       "    </tr>\n",
       "  </tbody>\n",
       "</table>\n",
       "</div>"
      ],
      "text/plain": [
       "   Study Hours  Sleep Hours  Attendance Rate  Social Media Hours\n",
       "0          4.7          7.3             82.9                 3.3\n",
       "1          3.8          6.6             87.9                 3.3\n",
       "2          5.0          6.3             88.3                 2.3\n",
       "3          6.3          7.6             86.0                 3.2\n",
       "4          3.6          8.0             89.2                 3.3"
      ]
     },
     "execution_count": 15,
     "metadata": {},
     "output_type": "execute_result"
    }
   ],
   "source": [
    "X.head()"
   ]
  },
  {
   "cell_type": "code",
   "execution_count": 16,
   "id": "4c86ddcc",
   "metadata": {
    "execution": {
     "iopub.execute_input": "2025-10-02T19:36:03.955860Z",
     "iopub.status.busy": "2025-10-02T19:36:03.955553Z",
     "iopub.status.idle": "2025-10-02T19:36:03.962144Z",
     "shell.execute_reply": "2025-10-02T19:36:03.961239Z"
    },
    "papermill": {
     "duration": 0.018296,
     "end_time": "2025-10-02T19:36:03.963415",
     "exception": false,
     "start_time": "2025-10-02T19:36:03.945119",
     "status": "completed"
    },
    "tags": []
   },
   "outputs": [
    {
     "data": {
      "text/plain": [
       "0    80.7\n",
       "1    76.0\n",
       "2    89.1\n",
       "3    95.9\n",
       "4    70.5\n",
       "Name: Exam Score, dtype: float64"
      ]
     },
     "execution_count": 16,
     "metadata": {},
     "output_type": "execute_result"
    }
   ],
   "source": [
    "y.head()"
   ]
  },
  {
   "cell_type": "code",
   "execution_count": 17,
   "id": "83302de4",
   "metadata": {
    "execution": {
     "iopub.execute_input": "2025-10-02T19:36:03.984932Z",
     "iopub.status.busy": "2025-10-02T19:36:03.984221Z",
     "iopub.status.idle": "2025-10-02T19:36:04.294725Z",
     "shell.execute_reply": "2025-10-02T19:36:04.293546Z"
    },
    "papermill": {
     "duration": 0.323519,
     "end_time": "2025-10-02T19:36:04.296839",
     "exception": false,
     "start_time": "2025-10-02T19:36:03.973320",
     "status": "completed"
    },
    "tags": []
   },
   "outputs": [],
   "source": [
    "#train test split\n",
    "from sklearn.model_selection import train_test_split\n",
    "X_train, X_test, y_train, y_test = train_test_split(X,y,test_size=0.25,random_state=15)"
   ]
  },
  {
   "cell_type": "code",
   "execution_count": 18,
   "id": "6696d4e2",
   "metadata": {
    "execution": {
     "iopub.execute_input": "2025-10-02T19:36:04.321402Z",
     "iopub.status.busy": "2025-10-02T19:36:04.320350Z",
     "iopub.status.idle": "2025-10-02T19:36:04.329989Z",
     "shell.execute_reply": "2025-10-02T19:36:04.328978Z"
    },
    "papermill": {
     "duration": 0.023332,
     "end_time": "2025-10-02T19:36:04.331633",
     "exception": false,
     "start_time": "2025-10-02T19:36:04.308301",
     "status": "completed"
    },
    "tags": []
   },
   "outputs": [],
   "source": [
    "#Standardize the data\n",
    "from sklearn.preprocessing import StandardScaler\n",
    "scaler=StandardScaler()\n",
    "X_train = scaler.fit_transform(X_train)\n",
    "X_test=scaler.transform(X_test)"
   ]
  },
  {
   "cell_type": "code",
   "execution_count": 19,
   "id": "535b1eb9",
   "metadata": {
    "execution": {
     "iopub.execute_input": "2025-10-02T19:36:04.354721Z",
     "iopub.status.busy": "2025-10-02T19:36:04.353640Z",
     "iopub.status.idle": "2025-10-02T19:36:04.503070Z",
     "shell.execute_reply": "2025-10-02T19:36:04.501893Z"
    },
    "papermill": {
     "duration": 0.16317,
     "end_time": "2025-10-02T19:36:04.505182",
     "exception": false,
     "start_time": "2025-10-02T19:36:04.342012",
     "status": "completed"
    },
    "tags": []
   },
   "outputs": [
    {
     "data": {
      "text/html": [
       "<style>#sk-container-id-1 {color: black;background-color: white;}#sk-container-id-1 pre{padding: 0;}#sk-container-id-1 div.sk-toggleable {background-color: white;}#sk-container-id-1 label.sk-toggleable__label {cursor: pointer;display: block;width: 100%;margin-bottom: 0;padding: 0.3em;box-sizing: border-box;text-align: center;}#sk-container-id-1 label.sk-toggleable__label-arrow:before {content: \"▸\";float: left;margin-right: 0.25em;color: #696969;}#sk-container-id-1 label.sk-toggleable__label-arrow:hover:before {color: black;}#sk-container-id-1 div.sk-estimator:hover label.sk-toggleable__label-arrow:before {color: black;}#sk-container-id-1 div.sk-toggleable__content {max-height: 0;max-width: 0;overflow: hidden;text-align: left;background-color: #f0f8ff;}#sk-container-id-1 div.sk-toggleable__content pre {margin: 0.2em;color: black;border-radius: 0.25em;background-color: #f0f8ff;}#sk-container-id-1 input.sk-toggleable__control:checked~div.sk-toggleable__content {max-height: 200px;max-width: 100%;overflow: auto;}#sk-container-id-1 input.sk-toggleable__control:checked~label.sk-toggleable__label-arrow:before {content: \"▾\";}#sk-container-id-1 div.sk-estimator input.sk-toggleable__control:checked~label.sk-toggleable__label {background-color: #d4ebff;}#sk-container-id-1 div.sk-label input.sk-toggleable__control:checked~label.sk-toggleable__label {background-color: #d4ebff;}#sk-container-id-1 input.sk-hidden--visually {border: 0;clip: rect(1px 1px 1px 1px);clip: rect(1px, 1px, 1px, 1px);height: 1px;margin: -1px;overflow: hidden;padding: 0;position: absolute;width: 1px;}#sk-container-id-1 div.sk-estimator {font-family: monospace;background-color: #f0f8ff;border: 1px dotted black;border-radius: 0.25em;box-sizing: border-box;margin-bottom: 0.5em;}#sk-container-id-1 div.sk-estimator:hover {background-color: #d4ebff;}#sk-container-id-1 div.sk-parallel-item::after {content: \"\";width: 100%;border-bottom: 1px solid gray;flex-grow: 1;}#sk-container-id-1 div.sk-label:hover label.sk-toggleable__label {background-color: #d4ebff;}#sk-container-id-1 div.sk-serial::before {content: \"\";position: absolute;border-left: 1px solid gray;box-sizing: border-box;top: 0;bottom: 0;left: 50%;z-index: 0;}#sk-container-id-1 div.sk-serial {display: flex;flex-direction: column;align-items: center;background-color: white;padding-right: 0.2em;padding-left: 0.2em;position: relative;}#sk-container-id-1 div.sk-item {position: relative;z-index: 1;}#sk-container-id-1 div.sk-parallel {display: flex;align-items: stretch;justify-content: center;background-color: white;position: relative;}#sk-container-id-1 div.sk-item::before, #sk-container-id-1 div.sk-parallel-item::before {content: \"\";position: absolute;border-left: 1px solid gray;box-sizing: border-box;top: 0;bottom: 0;left: 50%;z-index: -1;}#sk-container-id-1 div.sk-parallel-item {display: flex;flex-direction: column;z-index: 1;position: relative;background-color: white;}#sk-container-id-1 div.sk-parallel-item:first-child::after {align-self: flex-end;width: 50%;}#sk-container-id-1 div.sk-parallel-item:last-child::after {align-self: flex-start;width: 50%;}#sk-container-id-1 div.sk-parallel-item:only-child::after {width: 0;}#sk-container-id-1 div.sk-dashed-wrapped {border: 1px dashed gray;margin: 0 0.4em 0.5em 0.4em;box-sizing: border-box;padding-bottom: 0.4em;background-color: white;}#sk-container-id-1 div.sk-label label {font-family: monospace;font-weight: bold;display: inline-block;line-height: 1.2em;}#sk-container-id-1 div.sk-label-container {text-align: center;}#sk-container-id-1 div.sk-container {/* jupyter's `normalize.less` sets `[hidden] { display: none; }` but bootstrap.min.css set `[hidden] { display: none !important; }` so we also need the `!important` here to be able to override the default hidden behavior on the sphinx rendered scikit-learn.org. See: https://github.com/scikit-learn/scikit-learn/issues/21755 */display: inline-block !important;position: relative;}#sk-container-id-1 div.sk-text-repr-fallback {display: none;}</style><div id=\"sk-container-id-1\" class=\"sk-top-container\"><div class=\"sk-text-repr-fallback\"><pre>LinearRegression()</pre><b>In a Jupyter environment, please rerun this cell to show the HTML representation or trust the notebook. <br />On GitHub, the HTML representation is unable to render, please try loading this page with nbviewer.org.</b></div><div class=\"sk-container\" hidden><div class=\"sk-item\"><div class=\"sk-estimator sk-toggleable\"><input class=\"sk-toggleable__control sk-hidden--visually\" id=\"sk-estimator-id-1\" type=\"checkbox\" checked><label for=\"sk-estimator-id-1\" class=\"sk-toggleable__label sk-toggleable__label-arrow\">LinearRegression</label><div class=\"sk-toggleable__content\"><pre>LinearRegression()</pre></div></div></div></div></div>"
      ],
      "text/plain": [
       "LinearRegression()"
      ]
     },
     "execution_count": 19,
     "metadata": {},
     "output_type": "execute_result"
    }
   ],
   "source": [
    "#Regression\n",
    "\n",
    "from sklearn.linear_model import LinearRegression\n",
    "regression = LinearRegression()\n",
    "\n",
    "regression.fit(X_train,y_train)"
   ]
  },
  {
   "cell_type": "code",
   "execution_count": 20,
   "id": "5dd06352",
   "metadata": {
    "execution": {
     "iopub.execute_input": "2025-10-02T19:36:04.530462Z",
     "iopub.status.busy": "2025-10-02T19:36:04.530061Z",
     "iopub.status.idle": "2025-10-02T19:36:04.535878Z",
     "shell.execute_reply": "2025-10-02T19:36:04.534746Z"
    },
    "papermill": {
     "duration": 0.020588,
     "end_time": "2025-10-02T19:36:04.537737",
     "exception": false,
     "start_time": "2025-10-02T19:36:04.517149",
     "status": "completed"
    },
    "tags": []
   },
   "outputs": [],
   "source": [
    "#Prediction\n",
    "y_pred = regression.predict(X_test)"
   ]
  },
  {
   "cell_type": "code",
   "execution_count": 21,
   "id": "d5c67c3b",
   "metadata": {
    "execution": {
     "iopub.execute_input": "2025-10-02T19:36:04.563579Z",
     "iopub.status.busy": "2025-10-02T19:36:04.563139Z",
     "iopub.status.idle": "2025-10-02T19:36:04.571418Z",
     "shell.execute_reply": "2025-10-02T19:36:04.570309Z"
    },
    "papermill": {
     "duration": 0.022434,
     "end_time": "2025-10-02T19:36:04.573221",
     "exception": false,
     "start_time": "2025-10-02T19:36:04.550787",
     "status": "completed"
    },
    "tags": []
   },
   "outputs": [
    {
     "name": "stdout",
     "output_type": "stream",
     "text": [
      "mse: 14.600589378986259\n",
      "mae: 3.2770264859627862\n",
      "rmse: 3.8210717578954543\n"
     ]
    }
   ],
   "source": [
    "#Performance Metrics\n",
    "from sklearn.metrics import mean_absolute_error,mean_squared_error\n",
    "mse=mean_squared_error(y_test,y_pred)\n",
    "mae=mean_absolute_error(y_test,y_pred)\n",
    "rmse = np.sqrt(mse)\n",
    "print(f\"mse: {mse}\")\n",
    "print(f\"mae: {mae}\")\n",
    "print(f\"rmse: {rmse}\")"
   ]
  },
  {
   "cell_type": "code",
   "execution_count": 22,
   "id": "27bc59e8",
   "metadata": {
    "execution": {
     "iopub.execute_input": "2025-10-02T19:36:04.599654Z",
     "iopub.status.busy": "2025-10-02T19:36:04.598523Z",
     "iopub.status.idle": "2025-10-02T19:36:04.606709Z",
     "shell.execute_reply": "2025-10-02T19:36:04.605596Z"
    },
    "papermill": {
     "duration": 0.023123,
     "end_time": "2025-10-02T19:36:04.608452",
     "exception": false,
     "start_time": "2025-10-02T19:36:04.585329",
     "status": "completed"
    },
    "tags": []
   },
   "outputs": [
    {
     "name": "stdout",
     "output_type": "stream",
     "text": [
      "r2 score: 0.915670734577271\n",
      "0.8735061018659065\n"
     ]
    }
   ],
   "source": [
    "from sklearn.metrics import r2_score\n",
    "score = r2_score(y_test,y_pred)\n",
    "print(f\"r2 score: {score}\")\n",
    "\n",
    "#adjusted R-squared\n",
    "print(1-(1-score)*(len(y_test)-1)/(len(y_test)-X_test.shape[1]-1))"
   ]
  },
  {
   "cell_type": "code",
   "execution_count": 23,
   "id": "6dd26deb",
   "metadata": {
    "execution": {
     "iopub.execute_input": "2025-10-02T19:36:04.634504Z",
     "iopub.status.busy": "2025-10-02T19:36:04.633288Z",
     "iopub.status.idle": "2025-10-02T19:36:04.776420Z",
     "shell.execute_reply": "2025-10-02T19:36:04.775251Z"
    },
    "papermill": {
     "duration": 0.158255,
     "end_time": "2025-10-02T19:36:04.778195",
     "exception": false,
     "start_time": "2025-10-02T19:36:04.619940",
     "status": "completed"
    },
    "tags": []
   },
   "outputs": [
    {
     "data": {
      "image/png": "[encoded data removed]",
      "text/plain": [
       "<Figure size 640x480 with 1 Axes>"
      ]
     },
     "metadata": {},
     "output_type": "display_data"
    }
   ],
   "source": [
    "plt.scatter(y_test,y_pred)\n",
    "plt.show()"
   ]
  },
  {
   "cell_type": "code",
   "execution_count": 24,
   "id": "04ea9ddf",
   "metadata": {
    "execution": {
     "iopub.execute_input": "2025-10-02T19:36:04.804877Z",
     "iopub.status.busy": "2025-10-02T19:36:04.804478Z",
     "iopub.status.idle": "2025-10-02T19:36:04.812188Z",
     "shell.execute_reply": "2025-10-02T19:36:04.810989Z"
    },
    "papermill": {
     "duration": 0.023611,
     "end_time": "2025-10-02T19:36:04.813821",
     "exception": false,
     "start_time": "2025-10-02T19:36:04.790210",
     "status": "completed"
    },
    "tags": []
   },
   "outputs": [
    {
     "name": "stdout",
     "output_type": "stream",
     "text": [
      "35    2.652956\n",
      "37    3.894544\n",
      "41   -1.930848\n",
      "26    2.006006\n",
      "38   -3.130796\n",
      "43    3.335144\n",
      "3     2.135550\n",
      "33   -3.039535\n",
      "30   -2.686757\n",
      "36   -9.822961\n",
      "14    2.321394\n",
      "16   -3.040466\n",
      "20   -2.604386\n",
      "Name: Exam Score, dtype: float64\n"
     ]
    }
   ],
   "source": [
    "residuals = y_test - y_pred\n",
    "print(residuals) #residuals are errors"
   ]
  },
  {
   "cell_type": "code",
   "execution_count": 25,
   "id": "26d864c6",
   "metadata": {
    "execution": {
     "iopub.execute_input": "2025-10-02T19:36:04.839053Z",
     "iopub.status.busy": "2025-10-02T19:36:04.838639Z",
     "iopub.status.idle": "2025-10-02T19:36:05.126781Z",
     "shell.execute_reply": "2025-10-02T19:36:05.125861Z"
    },
    "papermill": {
     "duration": 0.302522,
     "end_time": "2025-10-02T19:36:05.128211",
     "exception": false,
     "start_time": "2025-10-02T19:36:04.825689",
     "status": "completed"
    },
    "tags": []
   },
   "outputs": [
    {
     "name": "stderr",
     "output_type": "stream",
     "text": [
      "/usr/local/lib/python3.11/dist-packages/seaborn/_oldcore.py:1119: FutureWarning: use_inf_as_na option is deprecated and will be removed in a future version. Convert inf values to NaN before operating instead.\n",
      "  with pd.option_context('mode.use_inf_as_na', True):\n",
      "/usr/local/lib/python3.11/dist-packages/seaborn/axisgrid.py:118: UserWarning: The figure layout has changed to tight\n",
      "  self._figure.tight_layout(*args, **kwargs)\n"
     ]
    },
    {
     "data": {
      "image/png": "[encoded data removed]",
      "text/plain": [
       "<Figure size 500x500 with 1 Axes>"
      ]
     },
     "metadata": {},
     "output_type": "display_data"
    }
   ],
   "source": [
    "#if residuals are in normal distribution it seems good\n",
    "sns.displot(residuals,kind='kde')\n",
    "plt.show()"
   ]
  },
  {
   "cell_type": "code",
   "execution_count": 26,
   "id": "b5a62a76",
   "metadata": {
    "execution": {
     "iopub.execute_input": "2025-10-02T19:36:05.154409Z",
     "iopub.status.busy": "2025-10-02T19:36:05.153751Z",
     "iopub.status.idle": "2025-10-02T19:36:05.159884Z",
     "shell.execute_reply": "2025-10-02T19:36:05.158800Z"
    },
    "papermill": {
     "duration": 0.020999,
     "end_time": "2025-10-02T19:36:05.161652",
     "exception": false,
     "start_time": "2025-10-02T19:36:05.140653",
     "status": "completed"
    },
    "tags": []
   },
   "outputs": [
    {
     "name": "stdout",
     "output_type": "stream",
     "text": [
      "77.41081081081082\n",
      "[ 9.28014703  1.78967062  3.24340001 -4.08127695]\n"
     ]
    }
   ],
   "source": [
    "print(regression.intercept_)\n",
    "print(regression.coef_)"
   ]
  },
  {
   "cell_type": "code",
   "execution_count": 27,
   "id": "ccc4fa40",
   "metadata": {
    "execution": {
     "iopub.execute_input": "2025-10-02T19:36:05.188414Z",
     "iopub.status.busy": "2025-10-02T19:36:05.187582Z",
     "iopub.status.idle": "2025-10-02T19:36:05.199435Z",
     "shell.execute_reply": "2025-10-02T19:36:05.198556Z"
    },
    "papermill": {
     "duration": 0.02681,
     "end_time": "2025-10-02T19:36:05.200975",
     "exception": false,
     "start_time": "2025-10-02T19:36:05.174165",
     "status": "completed"
    },
    "tags": []
   },
   "outputs": [
    {
     "data": {
      "text/html": [
       "<div>\n",
       "<style scoped>\n",
       "    .dataframe tbody tr th:only-of-type {\n",
       "        vertical-align: middle;\n",
       "    }\n",
       "\n",
       "    .dataframe tbody tr th {\n",
       "        vertical-align: top;\n",
       "    }\n",
       "\n",
       "    .dataframe thead th {\n",
       "        text-align: right;\n",
       "    }\n",
       "</style>\n",
       "<table border=\"1\" class=\"dataframe\">\n",
       "  <thead>\n",
       "    <tr style=\"text-align: right;\">\n",
       "      <th></th>\n",
       "      <th>Study Hours</th>\n",
       "      <th>Sleep Hours</th>\n",
       "      <th>Attendance Rate</th>\n",
       "      <th>Social Media Hours</th>\n",
       "    </tr>\n",
       "  </thead>\n",
       "  <tbody>\n",
       "    <tr>\n",
       "      <th>0</th>\n",
       "      <td>4.7</td>\n",
       "      <td>7.3</td>\n",
       "      <td>82.9</td>\n",
       "      <td>3.3</td>\n",
       "    </tr>\n",
       "    <tr>\n",
       "      <th>1</th>\n",
       "      <td>3.8</td>\n",
       "      <td>6.6</td>\n",
       "      <td>87.9</td>\n",
       "      <td>3.3</td>\n",
       "    </tr>\n",
       "    <tr>\n",
       "      <th>2</th>\n",
       "      <td>5.0</td>\n",
       "      <td>6.3</td>\n",
       "      <td>88.3</td>\n",
       "      <td>2.3</td>\n",
       "    </tr>\n",
       "    <tr>\n",
       "      <th>3</th>\n",
       "      <td>6.3</td>\n",
       "      <td>7.6</td>\n",
       "      <td>86.0</td>\n",
       "      <td>3.2</td>\n",
       "    </tr>\n",
       "    <tr>\n",
       "      <th>4</th>\n",
       "      <td>3.6</td>\n",
       "      <td>8.0</td>\n",
       "      <td>89.2</td>\n",
       "      <td>3.3</td>\n",
       "    </tr>\n",
       "  </tbody>\n",
       "</table>\n",
       "</div>"
      ],
      "text/plain": [
       "   Study Hours  Sleep Hours  Attendance Rate  Social Media Hours\n",
       "0          4.7          7.3             82.9                 3.3\n",
       "1          3.8          6.6             87.9                 3.3\n",
       "2          5.0          6.3             88.3                 2.3\n",
       "3          6.3          7.6             86.0                 3.2\n",
       "4          3.6          8.0             89.2                 3.3"
      ]
     },
     "execution_count": 27,
     "metadata": {},
     "output_type": "execute_result"
    }
   ],
   "source": [
    "X.head()"
   ]
  },
  {
   "cell_type": "code",
   "execution_count": 28,
   "id": "9477d73b",
   "metadata": {
    "execution": {
     "iopub.execute_input": "2025-10-02T19:36:05.227856Z",
     "iopub.status.busy": "2025-10-02T19:36:05.227463Z",
     "iopub.status.idle": "2025-10-02T19:36:05.234150Z",
     "shell.execute_reply": "2025-10-02T19:36:05.233329Z"
    },
    "papermill": {
     "duration": 0.021689,
     "end_time": "2025-10-02T19:36:05.235642",
     "exception": false,
     "start_time": "2025-10-02T19:36:05.213953",
     "status": "completed"
    },
    "tags": []
   },
   "outputs": [
    {
     "data": {
      "text/plain": [
       "array([-1.29053937, -0.49984673,  1.62356013,  0.67593203])"
      ]
     },
     "execution_count": 28,
     "metadata": {},
     "output_type": "execute_result"
    }
   ],
   "source": [
    "X_test[0]"
   ]
  },
  {
   "cell_type": "code",
   "execution_count": 29,
   "id": "ca14d868",
   "metadata": {
    "execution": {
     "iopub.execute_input": "2025-10-02T19:36:05.262475Z",
     "iopub.status.busy": "2025-10-02T19:36:05.262048Z",
     "iopub.status.idle": "2025-10-02T19:36:05.269691Z",
     "shell.execute_reply": "2025-10-02T19:36:05.268705Z"
    },
    "papermill": {
     "duration": 0.022564,
     "end_time": "2025-10-02T19:36:05.271152",
     "exception": false,
     "start_time": "2025-10-02T19:36:05.248588",
     "status": "completed"
    },
    "tags": []
   },
   "outputs": [
    {
     "data": {
      "text/plain": [
       "Study Hours            4.7\n",
       "Sleep Hours            7.3\n",
       "Attendance Rate       82.9\n",
       "Social Media Hours     3.3\n",
       "Exam Score            80.7\n",
       "Name: 0, dtype: float64"
      ]
     },
     "execution_count": 29,
     "metadata": {},
     "output_type": "execute_result"
    }
   ],
   "source": [
    "df.iloc[0]"
   ]
  },
  {
   "cell_type": "code",
   "execution_count": 30,
   "id": "545cceb9",
   "metadata": {
    "execution": {
     "iopub.execute_input": "2025-10-02T19:36:05.297725Z",
     "iopub.status.busy": "2025-10-02T19:36:05.297049Z",
     "iopub.status.idle": "2025-10-02T19:36:05.301511Z",
     "shell.execute_reply": "2025-10-02T19:36:05.300641Z"
    },
    "papermill": {
     "duration": 0.019146,
     "end_time": "2025-10-02T19:36:05.303069",
     "exception": false,
     "start_time": "2025-10-02T19:36:05.283923",
     "status": "completed"
    },
    "tags": []
   },
   "outputs": [],
   "source": [
    "new_student=[[5,7,90,2]] # 5 study hours, 7 sleep hours, %90 attendance, 2 social media hours"
   ]
  },
  {
   "cell_type": "code",
   "execution_count": 31,
   "id": "15a4a023",
   "metadata": {
    "execution": {
     "iopub.execute_input": "2025-10-02T19:36:05.399038Z",
     "iopub.status.busy": "2025-10-02T19:36:05.397934Z",
     "iopub.status.idle": "2025-10-02T19:36:05.405375Z",
     "shell.execute_reply": "2025-10-02T19:36:05.404451Z"
    },
    "papermill": {
     "duration": 0.021707,
     "end_time": "2025-10-02T19:36:05.406859",
     "exception": false,
     "start_time": "2025-10-02T19:36:05.385152",
     "status": "completed"
    },
    "tags": []
   },
   "outputs": [
    {
     "name": "stderr",
     "output_type": "stream",
     "text": [
      "/usr/local/lib/python3.11/dist-packages/sklearn/base.py:439: UserWarning: X does not have valid feature names, but StandardScaler was fitted with feature names\n",
      "  warnings.warn(\n"
     ]
    }
   ],
   "source": [
    "new_student_scaled = scaler.transform(new_student)"
   ]
  },
  {
   "cell_type": "code",
   "execution_count": 32,
   "id": "5b9687ab",
   "metadata": {
    "execution": {
     "iopub.execute_input": "2025-10-02T19:36:05.432322Z",
     "iopub.status.busy": "2025-10-02T19:36:05.431530Z",
     "iopub.status.idle": "2025-10-02T19:36:05.436886Z",
     "shell.execute_reply": "2025-10-02T19:36:05.436013Z"
    },
    "papermill": {
     "duration": 0.019357,
     "end_time": "2025-10-02T19:36:05.438274",
     "exception": false,
     "start_time": "2025-10-02T19:36:05.418917",
     "status": "completed"
    },
    "tags": []
   },
   "outputs": [
    {
     "name": "stdout",
     "output_type": "stream",
     "text": [
      "[90.88471349]\n"
     ]
    }
   ],
   "source": [
    "predicted_score = regression.predict(new_student_scaled)\n",
    "print(predicted_score)"
   ]
  },
  {
   "cell_type": "code",
   "execution_count": 33,
   "id": "05e285fe",
   "metadata": {
    "execution": {
     "iopub.execute_input": "2025-10-02T19:36:05.463543Z",
     "iopub.status.busy": "2025-10-02T19:36:05.463215Z",
     "iopub.status.idle": "2025-10-02T19:36:05.467932Z",
     "shell.execute_reply": "2025-10-02T19:36:05.466811Z"
    },
    "papermill": {
     "duration": 0.019001,
     "end_time": "2025-10-02T19:36:05.469346",
     "exception": false,
     "start_time": "2025-10-02T19:36:05.450345",
     "status": "completed"
    },
    "tags": []
   },
   "outputs": [],
   "source": [
    "students = [\n",
    "    [6,8,95,5],\n",
    "    [3,6,85,4],\n",
    "    [4,7,80,3]\n",
    "]"
   ]
  },
  {
   "cell_type": "code",
   "execution_count": 34,
   "id": "6e214e37",
   "metadata": {
    "execution": {
     "iopub.execute_input": "2025-10-02T19:36:05.494592Z",
     "iopub.status.busy": "2025-10-02T19:36:05.494210Z",
     "iopub.status.idle": "2025-10-02T19:36:05.499872Z",
     "shell.execute_reply": "2025-10-02T19:36:05.498927Z"
    },
    "papermill": {
     "duration": 0.019754,
     "end_time": "2025-10-02T19:36:05.501135",
     "exception": false,
     "start_time": "2025-10-02T19:36:05.481381",
     "status": "completed"
    },
    "tags": []
   },
   "outputs": [
    {
     "name": "stdout",
     "output_type": "stream",
     "text": [
      "[90.37189122 62.43586785 72.73292556]\n"
     ]
    },
    {
     "name": "stderr",
     "output_type": "stream",
     "text": [
      "/usr/local/lib/python3.11/dist-packages/sklearn/base.py:439: UserWarning: X does not have valid feature names, but StandardScaler was fitted with feature names\n",
      "  warnings.warn(\n"
     ]
    }
   ],
   "source": [
    "predicted_scores = regression.predict(scaler.transform(students))\n",
    "print(predicted_scores)"
   ]
  },
  {
   "cell_type": "code",
   "execution_count": null,
   "id": "47956786",
   "metadata": {
    "papermill": {
     "duration": 0.011784,
     "end_time": "2025-10-02T19:36:05.525320",
     "exception": false,
     "start_time": "2025-10-02T19:36:05.513536",
     "status": "completed"
    },
    "tags": []
   },
   "outputs": [],
   "source": []
  }
 ],
 "metadata": {
  "kaggle": {
   "accelerator": "none",
   "dataSources": [
    {
     "datasetId": 8392005,
     "sourceId": 13244171,
     "sourceType": "datasetVersion"
    }
   ],
   "dockerImageVersionId": 31089,
   "isGpuEnabled": false,
   "isInternetEnabled": true,
   "language": "python",
   "sourceType": "notebook"
  },
  "kernelspec": {
   "display_name": "Python 3",
   "language": "python",
   "name": "python3"
  },
  "language_info": {
   "codemirror_mode": {
    "name": "ipython",
    "version": 3
   },
   "file_extension": ".py",
   "mimetype": "text/x-python",
   "name": "python",
   "nbconvert_exporter": "python",
   "pygments_lexer": "ipython3",
   "version": "3.11.13"
  },
  "papermill": {
   "default_parameters": {},
   "duration": 17.975127,
   "end_time": "2025-10-02T19:36:06.357794",
   "environment_variables": {},
   "exception": null,
   "input_path": "__notebook__.ipynb",
   "output_path": "__notebook__.ipynb",
   "parameters": {},
   "start_time": "2025-10-02T19:35:48.382667",
   "version": "2.6.0"
  }
 },
 "nbformat": 4,
 "nbformat_minor": 5
}
