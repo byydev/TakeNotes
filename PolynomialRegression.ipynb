{
 "cells": [
  {
   "cell_type": "code",
   "execution_count": 1,
   "id": "d5d7f4a9",
   "metadata": {
    "_cell_guid": "b1076dfc-b9ad-4769-8c92-a6c4dae69d19",
    "_uuid": "8f2839f25d086af736a60e9eeb907d3b93b6e0e5",
    "execution": {
     "iopub.execute_input": "2025-10-03T20:05:24.349563Z",
     "iopub.status.busy": "2025-10-03T20:05:24.349203Z",
     "iopub.status.idle": "2025-10-03T20:05:26.739723Z",
     "shell.execute_reply": "2025-10-03T20:05:26.738219Z"
    },
    "papermill": {
     "duration": 2.399606,
     "end_time": "2025-10-03T20:05:26.741915",
     "exception": false,
     "start_time": "2025-10-03T20:05:24.342309",
     "status": "completed"
    },
    "tags": []
   },
   "outputs": [
    {
     "name": "stdout",
     "output_type": "stream",
     "text": [
      "/kaggle/input/exercise-1/3-customersatisfaction.csv\n",
      "/kaggle/input/exercise-1/1-studyhours.csv\n",
      "/kaggle/input/exercise-1/2-multiplegradesdataset.csv\n"
     ]
    }
   ],
   "source": [
    "# This Python 3 environment comes with many helpful analytics libraries installed\n",
    "# It is defined by the kaggle/python Docker image: https://github.com/kaggle/docker-python\n",
    "# For example, here's several helpful packages to load\n",
    "\n",
    "import numpy as np # linear algebra\n",
    "import pandas as pd # data processing, CSV file I/O (e.g. pd.read_csv)\n",
    "\n",
    "# Input data files are available in the read-only \"../input/\" directory\n",
    "# For example, running this (by clicking run or pressing Shift+Enter) will list all files under the input directory\n",
    "\n",
    "import os\n",
    "for dirname, _, filenames in os.walk('/kaggle/input'):\n",
    "    for filename in filenames:\n",
    "        print(os.path.join(dirname, filename))\n",
    "\n",
    "# You can write up to 20GB to the current directory (/kaggle/working/) that gets preserved as output when you create a version using \"Save & Run All\" \n",
    "# You can also write temporary files to /kaggle/temp/, but they won't be saved outside of the current session"
   ]
  },
  {
   "cell_type": "code",
   "execution_count": 2,
   "id": "8cc4abe9",
   "metadata": {
    "execution": {
     "iopub.execute_input": "2025-10-03T20:05:26.754384Z",
     "iopub.status.busy": "2025-10-03T20:05:26.753879Z",
     "iopub.status.idle": "2025-10-03T20:05:29.114108Z",
     "shell.execute_reply": "2025-10-03T20:05:29.112548Z"
    },
    "papermill": {
     "duration": 2.369041,
     "end_time": "2025-10-03T20:05:29.116325",
     "exception": false,
     "start_time": "2025-10-03T20:05:26.747284",
     "status": "completed"
    },
    "tags": []
   },
   "outputs": [],
   "source": [
    "import matplotlib.pyplot as plt\n",
    "import seaborn as sns"
   ]
  },
  {
   "cell_type": "code",
   "execution_count": 3,
   "id": "1b34b023",
   "metadata": {
    "execution": {
     "iopub.execute_input": "2025-10-03T20:05:29.128564Z",
     "iopub.status.busy": "2025-10-03T20:05:29.128068Z",
     "iopub.status.idle": "2025-10-03T20:05:29.710022Z",
     "shell.execute_reply": "2025-10-03T20:05:29.707320Z"
    },
    "papermill": {
     "duration": 0.592318,
     "end_time": "2025-10-03T20:05:29.713674",
     "exception": false,
     "start_time": "2025-10-03T20:05:29.121356",
     "status": "completed"
    },
    "tags": []
   },
   "outputs": [],
   "source": [
    "from sklearn.linear_model import LinearRegression\n",
    "from sklearn.preprocessing import PolynomialFeatures, StandardScaler\n",
    "from sklearn.model_selection import train_test_split\n",
    "from sklearn.metrics import r2_score, mean_squared_error\n",
    "from sklearn.pipeline import Pipeline"
   ]
  },
  {
   "cell_type": "code",
   "execution_count": 4,
   "id": "0c2067c5",
   "metadata": {
    "execution": {
     "iopub.execute_input": "2025-10-03T20:05:29.735830Z",
     "iopub.status.busy": "2025-10-03T20:05:29.735299Z",
     "iopub.status.idle": "2025-10-03T20:05:29.770770Z",
     "shell.execute_reply": "2025-10-03T20:05:29.769349Z"
    },
    "papermill": {
     "duration": 0.047543,
     "end_time": "2025-10-03T20:05:29.773302",
     "exception": false,
     "start_time": "2025-10-03T20:05:29.725759",
     "status": "completed"
    },
    "tags": []
   },
   "outputs": [],
   "source": [
    "df = pd.read_csv('/kaggle/input/exercise-1/3-customersatisfaction.csv')"
   ]
  },
  {
   "cell_type": "code",
   "execution_count": 5,
   "id": "5a0bfb47",
   "metadata": {
    "execution": {
     "iopub.execute_input": "2025-10-03T20:05:29.791494Z",
     "iopub.status.busy": "2025-10-03T20:05:29.790836Z",
     "iopub.status.idle": "2025-10-03T20:05:29.834581Z",
     "shell.execute_reply": "2025-10-03T20:05:29.832971Z"
    },
    "papermill": {
     "duration": 0.052695,
     "end_time": "2025-10-03T20:05:29.836563",
     "exception": false,
     "start_time": "2025-10-03T20:05:29.783868",
     "status": "completed"
    },
    "tags": []
   },
   "outputs": [
    {
     "data": {
      "text/html": [
       "<div>\n",
       "<style scoped>\n",
       "    .dataframe tbody tr th:only-of-type {\n",
       "        vertical-align: middle;\n",
       "    }\n",
       "\n",
       "    .dataframe tbody tr th {\n",
       "        vertical-align: top;\n",
       "    }\n",
       "\n",
       "    .dataframe thead th {\n",
       "        text-align: right;\n",
       "    }\n",
       "</style>\n",
       "<table border=\"1\" class=\"dataframe\">\n",
       "  <thead>\n",
       "    <tr style=\"text-align: right;\">\n",
       "      <th></th>\n",
       "      <th>Unnamed: 0</th>\n",
       "      <th>Customer Satisfaction</th>\n",
       "      <th>Incentive</th>\n",
       "    </tr>\n",
       "  </thead>\n",
       "  <tbody>\n",
       "    <tr>\n",
       "      <th>0</th>\n",
       "      <td>0</td>\n",
       "      <td>-1.282447</td>\n",
       "      <td>1.010513</td>\n",
       "    </tr>\n",
       "    <tr>\n",
       "      <th>1</th>\n",
       "      <td>1</td>\n",
       "      <td>0.425298</td>\n",
       "      <td>2.281043</td>\n",
       "    </tr>\n",
       "    <tr>\n",
       "      <th>2</th>\n",
       "      <td>2</td>\n",
       "      <td>1.953070</td>\n",
       "      <td>4.415053</td>\n",
       "    </tr>\n",
       "    <tr>\n",
       "      <th>3</th>\n",
       "      <td>3</td>\n",
       "      <td>2.625838</td>\n",
       "      <td>10.563600</td>\n",
       "    </tr>\n",
       "    <tr>\n",
       "      <th>4</th>\n",
       "      <td>4</td>\n",
       "      <td>-1.426333</td>\n",
       "      <td>0.627365</td>\n",
       "    </tr>\n",
       "  </tbody>\n",
       "</table>\n",
       "</div>"
      ],
      "text/plain": [
       "   Unnamed: 0  Customer Satisfaction  Incentive\n",
       "0           0              -1.282447   1.010513\n",
       "1           1               0.425298   2.281043\n",
       "2           2               1.953070   4.415053\n",
       "3           3               2.625838  10.563600\n",
       "4           4              -1.426333   0.627365"
      ]
     },
     "execution_count": 5,
     "metadata": {},
     "output_type": "execute_result"
    }
   ],
   "source": [
    "df.head()"
   ]
  },
  {
   "cell_type": "code",
   "execution_count": 6,
   "id": "4390f961",
   "metadata": {
    "execution": {
     "iopub.execute_input": "2025-10-03T20:05:29.848654Z",
     "iopub.status.busy": "2025-10-03T20:05:29.848283Z",
     "iopub.status.idle": "2025-10-03T20:05:29.863244Z",
     "shell.execute_reply": "2025-10-03T20:05:29.861937Z"
    },
    "papermill": {
     "duration": 0.02341,
     "end_time": "2025-10-03T20:05:29.865492",
     "exception": false,
     "start_time": "2025-10-03T20:05:29.842082",
     "status": "completed"
    },
    "tags": []
   },
   "outputs": [],
   "source": [
    "df.drop(\"Unnamed: 0\",axis=1, inplace=True)"
   ]
  },
  {
   "cell_type": "code",
   "execution_count": 7,
   "id": "3efffed2",
   "metadata": {
    "execution": {
     "iopub.execute_input": "2025-10-03T20:05:29.876920Z",
     "iopub.status.busy": "2025-10-03T20:05:29.876577Z",
     "iopub.status.idle": "2025-10-03T20:05:29.886228Z",
     "shell.execute_reply": "2025-10-03T20:05:29.885247Z"
    },
    "papermill": {
     "duration": 0.017851,
     "end_time": "2025-10-03T20:05:29.888505",
     "exception": false,
     "start_time": "2025-10-03T20:05:29.870654",
     "status": "completed"
    },
    "tags": []
   },
   "outputs": [
    {
     "data": {
      "text/html": [
       "<div>\n",
       "<style scoped>\n",
       "    .dataframe tbody tr th:only-of-type {\n",
       "        vertical-align: middle;\n",
       "    }\n",
       "\n",
       "    .dataframe tbody tr th {\n",
       "        vertical-align: top;\n",
       "    }\n",
       "\n",
       "    .dataframe thead th {\n",
       "        text-align: right;\n",
       "    }\n",
       "</style>\n",
       "<table border=\"1\" class=\"dataframe\">\n",
       "  <thead>\n",
       "    <tr style=\"text-align: right;\">\n",
       "      <th></th>\n",
       "      <th>Customer Satisfaction</th>\n",
       "      <th>Incentive</th>\n",
       "    </tr>\n",
       "  </thead>\n",
       "  <tbody>\n",
       "    <tr>\n",
       "      <th>0</th>\n",
       "      <td>-1.282447</td>\n",
       "      <td>1.010513</td>\n",
       "    </tr>\n",
       "    <tr>\n",
       "      <th>1</th>\n",
       "      <td>0.425298</td>\n",
       "      <td>2.281043</td>\n",
       "    </tr>\n",
       "    <tr>\n",
       "      <th>2</th>\n",
       "      <td>1.953070</td>\n",
       "      <td>4.415053</td>\n",
       "    </tr>\n",
       "    <tr>\n",
       "      <th>3</th>\n",
       "      <td>2.625838</td>\n",
       "      <td>10.563600</td>\n",
       "    </tr>\n",
       "    <tr>\n",
       "      <th>4</th>\n",
       "      <td>-1.426333</td>\n",
       "      <td>0.627365</td>\n",
       "    </tr>\n",
       "  </tbody>\n",
       "</table>\n",
       "</div>"
      ],
      "text/plain": [
       "   Customer Satisfaction  Incentive\n",
       "0              -1.282447   1.010513\n",
       "1               0.425298   2.281043\n",
       "2               1.953070   4.415053\n",
       "3               2.625838  10.563600\n",
       "4              -1.426333   0.627365"
      ]
     },
     "execution_count": 7,
     "metadata": {},
     "output_type": "execute_result"
    }
   ],
   "source": [
    "df.head()"
   ]
  },
  {
   "cell_type": "code",
   "execution_count": 8,
   "id": "b6f157d2",
   "metadata": {
    "execution": {
     "iopub.execute_input": "2025-10-03T20:05:29.900375Z",
     "iopub.status.busy": "2025-10-03T20:05:29.899964Z",
     "iopub.status.idle": "2025-10-03T20:05:29.925140Z",
     "shell.execute_reply": "2025-10-03T20:05:29.923169Z"
    },
    "papermill": {
     "duration": 0.033351,
     "end_time": "2025-10-03T20:05:29.927111",
     "exception": false,
     "start_time": "2025-10-03T20:05:29.893760",
     "status": "completed"
    },
    "tags": []
   },
   "outputs": [
    {
     "name": "stdout",
     "output_type": "stream",
     "text": [
      "<class 'pandas.core.frame.DataFrame'>\n",
      "RangeIndex: 100 entries, 0 to 99\n",
      "Data columns (total 2 columns):\n",
      " #   Column                 Non-Null Count  Dtype  \n",
      "---  ------                 --------------  -----  \n",
      " 0   Customer Satisfaction  100 non-null    float64\n",
      " 1   Incentive              100 non-null    float64\n",
      "dtypes: float64(2)\n",
      "memory usage: 1.7 KB\n"
     ]
    }
   ],
   "source": [
    "df.info()"
   ]
  },
  {
   "cell_type": "code",
   "execution_count": 9,
   "id": "e6bedc5e",
   "metadata": {
    "execution": {
     "iopub.execute_input": "2025-10-03T20:05:29.941672Z",
     "iopub.status.busy": "2025-10-03T20:05:29.941310Z",
     "iopub.status.idle": "2025-10-03T20:05:30.260574Z",
     "shell.execute_reply": "2025-10-03T20:05:30.259304Z"
    },
    "papermill": {
     "duration": 0.328897,
     "end_time": "2025-10-03T20:05:30.262724",
     "exception": false,
     "start_time": "2025-10-03T20:05:29.933827",
     "status": "completed"
    },
    "tags": []
   },
   "outputs": [
    {
     "data": {
      "image/png": "[encoded data removed]",
      "text/plain": [
       "<Figure size 640x480 with 1 Axes>"
      ]
     },
     "metadata": {},
     "output_type": "display_data"
    }
   ],
   "source": [
    "plt.scatter(df[\"Customer Satisfaction\"], df[\"Incentive\"], color=\"b\")\n",
    "plt.xlabel(\"Customer Satisfaction\")\n",
    "plt.ylabel(\"Incentive\")\n",
    "plt.show()"
   ]
  },
  {
   "cell_type": "code",
   "execution_count": 10,
   "id": "86629acf",
   "metadata": {
    "execution": {
     "iopub.execute_input": "2025-10-03T20:05:30.278904Z",
     "iopub.status.busy": "2025-10-03T20:05:30.278564Z",
     "iopub.status.idle": "2025-10-03T20:05:30.285561Z",
     "shell.execute_reply": "2025-10-03T20:05:30.284411Z"
    },
    "papermill": {
     "duration": 0.016137,
     "end_time": "2025-10-03T20:05:30.287470",
     "exception": false,
     "start_time": "2025-10-03T20:05:30.271333",
     "status": "completed"
    },
    "tags": []
   },
   "outputs": [],
   "source": [
    "#dependent & independent features\n",
    "X = df[[\"Customer Satisfaction\"]]\n",
    "y= df[\"Incentive\"]"
   ]
  },
  {
   "cell_type": "code",
   "execution_count": 11,
   "id": "559f81d2",
   "metadata": {
    "execution": {
     "iopub.execute_input": "2025-10-03T20:05:30.301674Z",
     "iopub.status.busy": "2025-10-03T20:05:30.301292Z",
     "iopub.status.idle": "2025-10-03T20:05:30.311721Z",
     "shell.execute_reply": "2025-10-03T20:05:30.310394Z"
    },
    "papermill": {
     "duration": 0.021111,
     "end_time": "2025-10-03T20:05:30.314059",
     "exception": false,
     "start_time": "2025-10-03T20:05:30.292948",
     "status": "completed"
    },
    "tags": []
   },
   "outputs": [
    {
     "data": {
      "text/html": [
       "<div>\n",
       "<style scoped>\n",
       "    .dataframe tbody tr th:only-of-type {\n",
       "        vertical-align: middle;\n",
       "    }\n",
       "\n",
       "    .dataframe tbody tr th {\n",
       "        vertical-align: top;\n",
       "    }\n",
       "\n",
       "    .dataframe thead th {\n",
       "        text-align: right;\n",
       "    }\n",
       "</style>\n",
       "<table border=\"1\" class=\"dataframe\">\n",
       "  <thead>\n",
       "    <tr style=\"text-align: right;\">\n",
       "      <th></th>\n",
       "      <th>Customer Satisfaction</th>\n",
       "    </tr>\n",
       "  </thead>\n",
       "  <tbody>\n",
       "    <tr>\n",
       "      <th>0</th>\n",
       "      <td>-1.282447</td>\n",
       "    </tr>\n",
       "    <tr>\n",
       "      <th>1</th>\n",
       "      <td>0.425298</td>\n",
       "    </tr>\n",
       "    <tr>\n",
       "      <th>2</th>\n",
       "      <td>1.953070</td>\n",
       "    </tr>\n",
       "    <tr>\n",
       "      <th>3</th>\n",
       "      <td>2.625838</td>\n",
       "    </tr>\n",
       "    <tr>\n",
       "      <th>4</th>\n",
       "      <td>-1.426333</td>\n",
       "    </tr>\n",
       "  </tbody>\n",
       "</table>\n",
       "</div>"
      ],
      "text/plain": [
       "   Customer Satisfaction\n",
       "0              -1.282447\n",
       "1               0.425298\n",
       "2               1.953070\n",
       "3               2.625838\n",
       "4              -1.426333"
      ]
     },
     "execution_count": 11,
     "metadata": {},
     "output_type": "execute_result"
    }
   ],
   "source": [
    "X.head()"
   ]
  },
  {
   "cell_type": "code",
   "execution_count": 12,
   "id": "6d4e37fd",
   "metadata": {
    "execution": {
     "iopub.execute_input": "2025-10-03T20:05:30.327935Z",
     "iopub.status.busy": "2025-10-03T20:05:30.327607Z",
     "iopub.status.idle": "2025-10-03T20:05:30.335143Z",
     "shell.execute_reply": "2025-10-03T20:05:30.334089Z"
    },
    "papermill": {
     "duration": 0.016094,
     "end_time": "2025-10-03T20:05:30.336757",
     "exception": false,
     "start_time": "2025-10-03T20:05:30.320663",
     "status": "completed"
    },
    "tags": []
   },
   "outputs": [
    {
     "data": {
      "text/plain": [
       "0     1.010513\n",
       "1     2.281043\n",
       "2     4.415053\n",
       "3    10.563600\n",
       "4     0.627365\n",
       "Name: Incentive, dtype: float64"
      ]
     },
     "execution_count": 12,
     "metadata": {},
     "output_type": "execute_result"
    }
   ],
   "source": [
    "y.head()"
   ]
  },
  {
   "cell_type": "code",
   "execution_count": 13,
   "id": "b18e495f",
   "metadata": {
    "execution": {
     "iopub.execute_input": "2025-10-03T20:05:30.349523Z",
     "iopub.status.busy": "2025-10-03T20:05:30.349201Z",
     "iopub.status.idle": "2025-10-03T20:05:30.359167Z",
     "shell.execute_reply": "2025-10-03T20:05:30.358042Z"
    },
    "papermill": {
     "duration": 0.018285,
     "end_time": "2025-10-03T20:05:30.360837",
     "exception": false,
     "start_time": "2025-10-03T20:05:30.342552",
     "status": "completed"
    },
    "tags": []
   },
   "outputs": [],
   "source": [
    "#train-test split\n",
    "\n",
    "X_train, X_test, y_train, y_test = train_test_split(X,y,test_size=0.2, random_state=15)"
   ]
  },
  {
   "cell_type": "code",
   "execution_count": 14,
   "id": "f4c83af6",
   "metadata": {
    "execution": {
     "iopub.execute_input": "2025-10-03T20:05:30.373325Z",
     "iopub.status.busy": "2025-10-03T20:05:30.372949Z",
     "iopub.status.idle": "2025-10-03T20:05:30.383913Z",
     "shell.execute_reply": "2025-10-03T20:05:30.382914Z"
    },
    "papermill": {
     "duration": 0.019011,
     "end_time": "2025-10-03T20:05:30.385527",
     "exception": false,
     "start_time": "2025-10-03T20:05:30.366516",
     "status": "completed"
    },
    "tags": []
   },
   "outputs": [
    {
     "data": {
      "text/html": [
       "<div>\n",
       "<style scoped>\n",
       "    .dataframe tbody tr th:only-of-type {\n",
       "        vertical-align: middle;\n",
       "    }\n",
       "\n",
       "    .dataframe tbody tr th {\n",
       "        vertical-align: top;\n",
       "    }\n",
       "\n",
       "    .dataframe thead th {\n",
       "        text-align: right;\n",
       "    }\n",
       "</style>\n",
       "<table border=\"1\" class=\"dataframe\">\n",
       "  <thead>\n",
       "    <tr style=\"text-align: right;\">\n",
       "      <th></th>\n",
       "      <th>Customer Satisfaction</th>\n",
       "    </tr>\n",
       "  </thead>\n",
       "  <tbody>\n",
       "    <tr>\n",
       "      <th>99</th>\n",
       "      <td>0.512504</td>\n",
       "    </tr>\n",
       "    <tr>\n",
       "      <th>3</th>\n",
       "      <td>2.625838</td>\n",
       "    </tr>\n",
       "    <tr>\n",
       "      <th>20</th>\n",
       "      <td>-0.865714</td>\n",
       "    </tr>\n",
       "    <tr>\n",
       "      <th>55</th>\n",
       "      <td>-1.145369</td>\n",
       "    </tr>\n",
       "    <tr>\n",
       "      <th>6</th>\n",
       "      <td>2.823460</td>\n",
       "    </tr>\n",
       "    <tr>\n",
       "      <th>...</th>\n",
       "      <td>...</td>\n",
       "    </tr>\n",
       "    <tr>\n",
       "      <th>28</th>\n",
       "      <td>1.191020</td>\n",
       "    </tr>\n",
       "    <tr>\n",
       "      <th>0</th>\n",
       "      <td>-1.282447</td>\n",
       "    </tr>\n",
       "    <tr>\n",
       "      <th>5</th>\n",
       "      <td>-1.311432</td>\n",
       "    </tr>\n",
       "    <tr>\n",
       "      <th>12</th>\n",
       "      <td>0.490521</td>\n",
       "    </tr>\n",
       "    <tr>\n",
       "      <th>72</th>\n",
       "      <td>-2.243889</td>\n",
       "    </tr>\n",
       "  </tbody>\n",
       "</table>\n",
       "<p>80 rows × 1 columns</p>\n",
       "</div>"
      ],
      "text/plain": [
       "    Customer Satisfaction\n",
       "99               0.512504\n",
       "3                2.625838\n",
       "20              -0.865714\n",
       "55              -1.145369\n",
       "6                2.823460\n",
       "..                    ...\n",
       "28               1.191020\n",
       "0               -1.282447\n",
       "5               -1.311432\n",
       "12               0.490521\n",
       "72              -2.243889\n",
       "\n",
       "[80 rows x 1 columns]"
      ]
     },
     "execution_count": 14,
     "metadata": {},
     "output_type": "execute_result"
    }
   ],
   "source": [
    "X_train"
   ]
  },
  {
   "cell_type": "code",
   "execution_count": 15,
   "id": "8770d6b6",
   "metadata": {
    "execution": {
     "iopub.execute_input": "2025-10-03T20:05:30.398459Z",
     "iopub.status.busy": "2025-10-03T20:05:30.398111Z",
     "iopub.status.idle": "2025-10-03T20:05:30.408302Z",
     "shell.execute_reply": "2025-10-03T20:05:30.407126Z"
    },
    "papermill": {
     "duration": 0.018584,
     "end_time": "2025-10-03T20:05:30.410093",
     "exception": false,
     "start_time": "2025-10-03T20:05:30.391509",
     "status": "completed"
    },
    "tags": []
   },
   "outputs": [],
   "source": [
    "#scaler\n",
    "\n",
    "scaler = StandardScaler()\n",
    "\n",
    "X_train = scaler.fit_transform(X_train)\n",
    "X_test = scaler.transform(X_test)"
   ]
  },
  {
   "cell_type": "code",
   "execution_count": 16,
   "id": "a91cad59",
   "metadata": {
    "execution": {
     "iopub.execute_input": "2025-10-03T20:05:30.422944Z",
     "iopub.status.busy": "2025-10-03T20:05:30.422622Z",
     "iopub.status.idle": "2025-10-03T20:05:30.453816Z",
     "shell.execute_reply": "2025-10-03T20:05:30.452844Z"
    },
    "papermill": {
     "duration": 0.039679,
     "end_time": "2025-10-03T20:05:30.455654",
     "exception": false,
     "start_time": "2025-10-03T20:05:30.415975",
     "status": "completed"
    },
    "tags": []
   },
   "outputs": [
    {
     "data": {
      "text/html": [
       "<style>#sk-container-id-1 {color: black;background-color: white;}#sk-container-id-1 pre{padding: 0;}#sk-container-id-1 div.sk-toggleable {background-color: white;}#sk-container-id-1 label.sk-toggleable__label {cursor: pointer;display: block;width: 100%;margin-bottom: 0;padding: 0.3em;box-sizing: border-box;text-align: center;}#sk-container-id-1 label.sk-toggleable__label-arrow:before {content: \"▸\";float: left;margin-right: 0.25em;color: #696969;}#sk-container-id-1 label.sk-toggleable__label-arrow:hover:before {color: black;}#sk-container-id-1 div.sk-estimator:hover label.sk-toggleable__label-arrow:before {color: black;}#sk-container-id-1 div.sk-toggleable__content {max-height: 0;max-width: 0;overflow: hidden;text-align: left;background-color: #f0f8ff;}#sk-container-id-1 div.sk-toggleable__content pre {margin: 0.2em;color: black;border-radius: 0.25em;background-color: #f0f8ff;}#sk-container-id-1 input.sk-toggleable__control:checked~div.sk-toggleable__content {max-height: 200px;max-width: 100%;overflow: auto;}#sk-container-id-1 input.sk-toggleable__control:checked~label.sk-toggleable__label-arrow:before {content: \"▾\";}#sk-container-id-1 div.sk-estimator input.sk-toggleable__control:checked~label.sk-toggleable__label {background-color: #d4ebff;}#sk-container-id-1 div.sk-label input.sk-toggleable__control:checked~label.sk-toggleable__label {background-color: #d4ebff;}#sk-container-id-1 input.sk-hidden--visually {border: 0;clip: rect(1px 1px 1px 1px);clip: rect(1px, 1px, 1px, 1px);height: 1px;margin: -1px;overflow: hidden;padding: 0;position: absolute;width: 1px;}#sk-container-id-1 div.sk-estimator {font-family: monospace;background-color: #f0f8ff;border: 1px dotted black;border-radius: 0.25em;box-sizing: border-box;margin-bottom: 0.5em;}#sk-container-id-1 div.sk-estimator:hover {background-color: #d4ebff;}#sk-container-id-1 div.sk-parallel-item::after {content: \"\";width: 100%;border-bottom: 1px solid gray;flex-grow: 1;}#sk-container-id-1 div.sk-label:hover label.sk-toggleable__label {background-color: #d4ebff;}#sk-container-id-1 div.sk-serial::before {content: \"\";position: absolute;border-left: 1px solid gray;box-sizing: border-box;top: 0;bottom: 0;left: 50%;z-index: 0;}#sk-container-id-1 div.sk-serial {display: flex;flex-direction: column;align-items: center;background-color: white;padding-right: 0.2em;padding-left: 0.2em;position: relative;}#sk-container-id-1 div.sk-item {position: relative;z-index: 1;}#sk-container-id-1 div.sk-parallel {display: flex;align-items: stretch;justify-content: center;background-color: white;position: relative;}#sk-container-id-1 div.sk-item::before, #sk-container-id-1 div.sk-parallel-item::before {content: \"\";position: absolute;border-left: 1px solid gray;box-sizing: border-box;top: 0;bottom: 0;left: 50%;z-index: -1;}#sk-container-id-1 div.sk-parallel-item {display: flex;flex-direction: column;z-index: 1;position: relative;background-color: white;}#sk-container-id-1 div.sk-parallel-item:first-child::after {align-self: flex-end;width: 50%;}#sk-container-id-1 div.sk-parallel-item:last-child::after {align-self: flex-start;width: 50%;}#sk-container-id-1 div.sk-parallel-item:only-child::after {width: 0;}#sk-container-id-1 div.sk-dashed-wrapped {border: 1px dashed gray;margin: 0 0.4em 0.5em 0.4em;box-sizing: border-box;padding-bottom: 0.4em;background-color: white;}#sk-container-id-1 div.sk-label label {font-family: monospace;font-weight: bold;display: inline-block;line-height: 1.2em;}#sk-container-id-1 div.sk-label-container {text-align: center;}#sk-container-id-1 div.sk-container {/* jupyter's `normalize.less` sets `[hidden] { display: none; }` but bootstrap.min.css set `[hidden] { display: none !important; }` so we also need the `!important` here to be able to override the default hidden behavior on the sphinx rendered scikit-learn.org. See: https://github.com/scikit-learn/scikit-learn/issues/21755 */display: inline-block !important;position: relative;}#sk-container-id-1 div.sk-text-repr-fallback {display: none;}</style><div id=\"sk-container-id-1\" class=\"sk-top-container\"><div class=\"sk-text-repr-fallback\"><pre>LinearRegression()</pre><b>In a Jupyter environment, please rerun this cell to show the HTML representation or trust the notebook. <br />On GitHub, the HTML representation is unable to render, please try loading this page with nbviewer.org.</b></div><div class=\"sk-container\" hidden><div class=\"sk-item\"><div class=\"sk-estimator sk-toggleable\"><input class=\"sk-toggleable__control sk-hidden--visually\" id=\"sk-estimator-id-1\" type=\"checkbox\" checked><label for=\"sk-estimator-id-1\" class=\"sk-toggleable__label sk-toggleable__label-arrow\">LinearRegression</label><div class=\"sk-toggleable__content\"><pre>LinearRegression()</pre></div></div></div></div></div>"
      ],
      "text/plain": [
       "LinearRegression()"
      ]
     },
     "execution_count": 16,
     "metadata": {},
     "output_type": "execute_result"
    }
   ],
   "source": [
    "#model\n",
    "\n",
    "regression = LinearRegression()\n",
    "regression.fit(X_train,y_train)"
   ]
  },
  {
   "cell_type": "code",
   "execution_count": 17,
   "id": "ce746339",
   "metadata": {
    "execution": {
     "iopub.execute_input": "2025-10-03T20:05:30.470033Z",
     "iopub.status.busy": "2025-10-03T20:05:30.469036Z",
     "iopub.status.idle": "2025-10-03T20:05:30.477124Z",
     "shell.execute_reply": "2025-10-03T20:05:30.476069Z"
    },
    "papermill": {
     "duration": 0.016713,
     "end_time": "2025-10-03T20:05:30.478817",
     "exception": false,
     "start_time": "2025-10-03T20:05:30.462104",
     "status": "completed"
    },
    "tags": []
   },
   "outputs": [
    {
     "data": {
      "text/plain": [
       "array([ 4.65663741,  3.71913877,  1.64121789,  6.29646523,  3.46766736,\n",
       "        5.7580845 ,  4.692485  ,  3.61616231,  5.62448003,  0.13472702,\n",
       "        4.47909659,  4.8130839 ,  1.58319087,  0.30515983,  5.27634309,\n",
       "        0.41711005, -0.7385295 , -0.32653914,  3.55906887,  1.19798631])"
      ]
     },
     "execution_count": 17,
     "metadata": {},
     "output_type": "execute_result"
    }
   ],
   "source": [
    "#prediction\n",
    "\n",
    "y_pred = regression.predict(X_test)\n",
    "y_pred"
   ]
  },
  {
   "cell_type": "code",
   "execution_count": 18,
   "id": "607e71ab",
   "metadata": {
    "execution": {
     "iopub.execute_input": "2025-10-03T20:05:30.492242Z",
     "iopub.status.busy": "2025-10-03T20:05:30.491860Z",
     "iopub.status.idle": "2025-10-03T20:05:30.498388Z",
     "shell.execute_reply": "2025-10-03T20:05:30.497086Z"
    },
    "papermill": {
     "duration": 0.015306,
     "end_time": "2025-10-03T20:05:30.500141",
     "exception": false,
     "start_time": "2025-10-03T20:05:30.484835",
     "status": "completed"
    },
    "tags": []
   },
   "outputs": [
    {
     "name": "stdout",
     "output_type": "stream",
     "text": [
      "0.2705652535622246\n"
     ]
    }
   ],
   "source": [
    "score = r2_score(y_test,y_pred)\n",
    "print(score)"
   ]
  },
  {
   "cell_type": "code",
   "execution_count": 19,
   "id": "959f5335",
   "metadata": {
    "execution": {
     "iopub.execute_input": "2025-10-03T20:05:30.513967Z",
     "iopub.status.busy": "2025-10-03T20:05:30.513658Z",
     "iopub.status.idle": "2025-10-03T20:05:30.689833Z",
     "shell.execute_reply": "2025-10-03T20:05:30.688761Z"
    },
    "papermill": {
     "duration": 0.185418,
     "end_time": "2025-10-03T20:05:30.691938",
     "exception": false,
     "start_time": "2025-10-03T20:05:30.506520",
     "status": "completed"
    },
    "tags": []
   },
   "outputs": [
    {
     "data": {
      "image/png": "[encoded data removed]",
      "text/plain": [
       "<Figure size 640x480 with 1 Axes>"
      ]
     },
     "metadata": {},
     "output_type": "display_data"
    }
   ],
   "source": [
    "plt.scatter(X_train,y_train)\n",
    "plt.plot(X_train,regression.predict(X_train),color=\"r\")\n",
    "plt.show()"
   ]
  },
  {
   "cell_type": "code",
   "execution_count": 20,
   "id": "b420e6d0",
   "metadata": {
    "execution": {
     "iopub.execute_input": "2025-10-03T20:05:30.708071Z",
     "iopub.status.busy": "2025-10-03T20:05:30.707729Z",
     "iopub.status.idle": "2025-10-03T20:05:30.721171Z",
     "shell.execute_reply": "2025-10-03T20:05:30.719512Z"
    },
    "papermill": {
     "duration": 0.024208,
     "end_time": "2025-10-03T20:05:30.722914",
     "exception": false,
     "start_time": "2025-10-03T20:05:30.698706",
     "status": "completed"
    },
    "tags": []
   },
   "outputs": [
    {
     "data": {
      "text/plain": [
       "array([[ 1.00000000e+00,  2.47633535e-01,  6.13223675e-02],\n",
       "       [ 1.00000000e+00,  1.45565669e+00,  2.11893639e+00],\n",
       "       [ 1.00000000e+00, -5.40182671e-01,  2.91797318e-01],\n",
       "       [ 1.00000000e+00, -7.00039198e-01,  4.90054879e-01],\n",
       "       [ 1.00000000e+00,  1.56862116e+00,  2.46057233e+00],\n",
       "       [ 1.00000000e+00,  9.87568378e-01,  9.75291302e-01],\n",
       "       [ 1.00000000e+00,  4.48640749e-01,  2.01278522e-01],\n",
       "       [ 1.00000000e+00,  1.54377517e+00,  2.38324178e+00],\n",
       "       [ 1.00000000e+00,  1.33219938e+00,  1.77475518e+00],\n",
       "       [ 1.00000000e+00, -4.80410926e-01,  2.30794658e-01],\n",
       "       [ 1.00000000e+00,  3.92892957e-01,  1.54364876e-01],\n",
       "       [ 1.00000000e+00, -6.57456685e-01,  4.32249293e-01],\n",
       "       [ 1.00000000e+00,  4.42663768e-01,  1.95951211e-01],\n",
       "       [ 1.00000000e+00, -8.72131603e-01,  7.60613533e-01],\n",
       "       [ 1.00000000e+00, -1.57257044e+00,  2.47297780e+00],\n",
       "       [ 1.00000000e+00, -4.70184630e-01,  2.21073587e-01],\n",
       "       [ 1.00000000e+00, -8.36083500e-02,  6.99035619e-03],\n",
       "       [ 1.00000000e+00, -1.67090265e+00,  2.79191566e+00],\n",
       "       [ 1.00000000e+00, -1.47554396e+00,  2.17722999e+00],\n",
       "       [ 1.00000000e+00, -2.66707249e-01,  7.11327568e-02],\n",
       "       [ 1.00000000e+00, -1.29927482e+00,  1.68811505e+00],\n",
       "       [ 1.00000000e+00,  2.52376902e-02,  6.36941005e-04],\n",
       "       [ 1.00000000e+00,  8.45561217e-01,  7.14973772e-01],\n",
       "       [ 1.00000000e+00, -3.21599697e-01,  1.03426365e-01],\n",
       "       [ 1.00000000e+00,  5.01141009e-02,  2.51142311e-03],\n",
       "       [ 1.00000000e+00,  8.60535329e-01,  7.40521053e-01],\n",
       "       [ 1.00000000e+00, -1.15064015e+00,  1.32397276e+00],\n",
       "       [ 1.00000000e+00, -5.23470381e-01,  2.74021240e-01],\n",
       "       [ 1.00000000e+00, -9.48833296e-01,  9.00284623e-01],\n",
       "       [ 1.00000000e+00,  4.64420171e-01,  2.15686095e-01],\n",
       "       [ 1.00000000e+00, -4.66007114e-01,  2.17162630e-01],\n",
       "       [ 1.00000000e+00,  3.07110819e-01,  9.43170549e-02],\n",
       "       [ 1.00000000e+00, -1.21262526e+00,  1.47046003e+00],\n",
       "       [ 1.00000000e+00,  1.07108903e+00,  1.14723171e+00],\n",
       "       [ 1.00000000e+00,  1.29604171e+00,  1.67972412e+00],\n",
       "       [ 1.00000000e+00, -8.60643579e-01,  7.40707370e-01],\n",
       "       [ 1.00000000e+00,  6.77823959e-01,  4.59445320e-01],\n",
       "       [ 1.00000000e+00,  1.12939550e+00,  1.27553419e+00],\n",
       "       [ 1.00000000e+00, -4.81940583e-01,  2.32266725e-01],\n",
       "       [ 1.00000000e+00,  9.08560139e-01,  8.25481527e-01],\n",
       "       [ 1.00000000e+00,  1.38408937e-02,  1.91570338e-04],\n",
       "       [ 1.00000000e+00,  8.73740668e-01,  7.63422755e-01],\n",
       "       [ 1.00000000e+00,  7.10218838e-01,  5.04410798e-01],\n",
       "       [ 1.00000000e+00, -1.12668733e+00,  1.26942435e+00],\n",
       "       [ 1.00000000e+00, -1.34723756e+00,  1.81504904e+00],\n",
       "       [ 1.00000000e+00,  1.66195332e+00,  2.76208885e+00],\n",
       "       [ 1.00000000e+00,  1.22326947e+00,  1.49638820e+00],\n",
       "       [ 1.00000000e+00, -1.67527517e+00,  2.80654690e+00],\n",
       "       [ 1.00000000e+00, -4.74884857e-01,  2.25515627e-01],\n",
       "       [ 1.00000000e+00,  4.65349055e-01,  2.16549743e-01],\n",
       "       [ 1.00000000e+00,  1.01978206e+00,  1.03995545e+00],\n",
       "       [ 1.00000000e+00,  1.97784729e-01,  3.91187989e-02],\n",
       "       [ 1.00000000e+00, -3.72497523e-01,  1.38754405e-01],\n",
       "       [ 1.00000000e+00,  2.03157987e-02,  4.12731676e-04],\n",
       "       [ 1.00000000e+00,  1.51810861e+00,  2.30465376e+00],\n",
       "       [ 1.00000000e+00,  7.47141019e-01,  5.58219702e-01],\n",
       "       [ 1.00000000e+00,  7.61566587e-01,  5.79983666e-01],\n",
       "       [ 1.00000000e+00, -4.07364395e-01,  1.65945750e-01],\n",
       "       [ 1.00000000e+00,  1.28901250e+00,  1.66155322e+00],\n",
       "       [ 1.00000000e+00,  1.03372149e+00,  1.06858013e+00],\n",
       "       [ 1.00000000e+00, -2.36889367e-01,  5.61165724e-02],\n",
       "       [ 1.00000000e+00, -1.75610302e+00,  3.08389780e+00],\n",
       "       [ 1.00000000e+00, -1.07135211e+00,  1.14779534e+00],\n",
       "       [ 1.00000000e+00, -9.61536989e-01,  9.24553380e-01],\n",
       "       [ 1.00000000e+00,  1.55231709e+00,  2.40968835e+00],\n",
       "       [ 1.00000000e+00,  9.04461039e-01,  8.18049771e-01],\n",
       "       [ 1.00000000e+00, -2.88584743e-01,  8.32811539e-02],\n",
       "       [ 1.00000000e+00, -1.59175110e+00,  2.53367158e+00],\n",
       "       [ 1.00000000e+00, -1.54634330e+00,  2.39117761e+00],\n",
       "       [ 1.00000000e+00,  1.60209005e+00,  2.56669252e+00],\n",
       "       [ 1.00000000e+00,  4.27069958e-01,  1.82388749e-01],\n",
       "       [ 1.00000000e+00, -1.27969358e+00,  1.63761567e+00],\n",
       "       [ 1.00000000e+00,  2.61700291e-01,  6.84870425e-02],\n",
       "       [ 1.00000000e+00,  1.49596532e+00,  2.23791224e+00],\n",
       "       [ 1.00000000e+00, -1.61319483e+00,  2.60239756e+00],\n",
       "       [ 1.00000000e+00,  6.35486514e-01,  4.03843109e-01],\n",
       "       [ 1.00000000e+00, -7.78395960e-01,  6.05900270e-01],\n",
       "       [ 1.00000000e+00, -7.94964088e-01,  6.31967901e-01],\n",
       "       [ 1.00000000e+00,  2.35067370e-01,  5.52566685e-02],\n",
       "       [ 1.00000000e+00, -1.32797495e+00,  1.76351748e+00]])"
      ]
     },
     "execution_count": 20,
     "metadata": {},
     "output_type": "execute_result"
    }
   ],
   "source": [
    "#polynomial regression\n",
    "\n",
    "poly = PolynomialFeatures(degree = 2, include_bias=True)\n",
    "X_train_poly = poly.fit_transform(X_train)\n",
    "X_test_poly = poly.transform(X_test)\n",
    "\n",
    "X_train_poly"
   ]
  },
  {
   "cell_type": "code",
   "execution_count": 21,
   "id": "d7ff416e",
   "metadata": {
    "execution": {
     "iopub.execute_input": "2025-10-03T20:05:30.740782Z",
     "iopub.status.busy": "2025-10-03T20:05:30.740281Z",
     "iopub.status.idle": "2025-10-03T20:05:30.762667Z",
     "shell.execute_reply": "2025-10-03T20:05:30.761151Z"
    },
    "papermill": {
     "duration": 0.034191,
     "end_time": "2025-10-03T20:05:30.765028",
     "exception": false,
     "start_time": "2025-10-03T20:05:30.730837",
     "status": "completed"
    },
    "tags": []
   },
   "outputs": [
    {
     "data": {
      "text/html": [
       "<style>#sk-container-id-2 {color: black;background-color: white;}#sk-container-id-2 pre{padding: 0;}#sk-container-id-2 div.sk-toggleable {background-color: white;}#sk-container-id-2 label.sk-toggleable__label {cursor: pointer;display: block;width: 100%;margin-bottom: 0;padding: 0.3em;box-sizing: border-box;text-align: center;}#sk-container-id-2 label.sk-toggleable__label-arrow:before {content: \"▸\";float: left;margin-right: 0.25em;color: #696969;}#sk-container-id-2 label.sk-toggleable__label-arrow:hover:before {color: black;}#sk-container-id-2 div.sk-estimator:hover label.sk-toggleable__label-arrow:before {color: black;}#sk-container-id-2 div.sk-toggleable__content {max-height: 0;max-width: 0;overflow: hidden;text-align: left;background-color: #f0f8ff;}#sk-container-id-2 div.sk-toggleable__content pre {margin: 0.2em;color: black;border-radius: 0.25em;background-color: #f0f8ff;}#sk-container-id-2 input.sk-toggleable__control:checked~div.sk-toggleable__content {max-height: 200px;max-width: 100%;overflow: auto;}#sk-container-id-2 input.sk-toggleable__control:checked~label.sk-toggleable__label-arrow:before {content: \"▾\";}#sk-container-id-2 div.sk-estimator input.sk-toggleable__control:checked~label.sk-toggleable__label {background-color: #d4ebff;}#sk-container-id-2 div.sk-label input.sk-toggleable__control:checked~label.sk-toggleable__label {background-color: #d4ebff;}#sk-container-id-2 input.sk-hidden--visually {border: 0;clip: rect(1px 1px 1px 1px);clip: rect(1px, 1px, 1px, 1px);height: 1px;margin: -1px;overflow: hidden;padding: 0;position: absolute;width: 1px;}#sk-container-id-2 div.sk-estimator {font-family: monospace;background-color: #f0f8ff;border: 1px dotted black;border-radius: 0.25em;box-sizing: border-box;margin-bottom: 0.5em;}#sk-container-id-2 div.sk-estimator:hover {background-color: #d4ebff;}#sk-container-id-2 div.sk-parallel-item::after {content: \"\";width: 100%;border-bottom: 1px solid gray;flex-grow: 1;}#sk-container-id-2 div.sk-label:hover label.sk-toggleable__label {background-color: #d4ebff;}#sk-container-id-2 div.sk-serial::before {content: \"\";position: absolute;border-left: 1px solid gray;box-sizing: border-box;top: 0;bottom: 0;left: 50%;z-index: 0;}#sk-container-id-2 div.sk-serial {display: flex;flex-direction: column;align-items: center;background-color: white;padding-right: 0.2em;padding-left: 0.2em;position: relative;}#sk-container-id-2 div.sk-item {position: relative;z-index: 1;}#sk-container-id-2 div.sk-parallel {display: flex;align-items: stretch;justify-content: center;background-color: white;position: relative;}#sk-container-id-2 div.sk-item::before, #sk-container-id-2 div.sk-parallel-item::before {content: \"\";position: absolute;border-left: 1px solid gray;box-sizing: border-box;top: 0;bottom: 0;left: 50%;z-index: -1;}#sk-container-id-2 div.sk-parallel-item {display: flex;flex-direction: column;z-index: 1;position: relative;background-color: white;}#sk-container-id-2 div.sk-parallel-item:first-child::after {align-self: flex-end;width: 50%;}#sk-container-id-2 div.sk-parallel-item:last-child::after {align-self: flex-start;width: 50%;}#sk-container-id-2 div.sk-parallel-item:only-child::after {width: 0;}#sk-container-id-2 div.sk-dashed-wrapped {border: 1px dashed gray;margin: 0 0.4em 0.5em 0.4em;box-sizing: border-box;padding-bottom: 0.4em;background-color: white;}#sk-container-id-2 div.sk-label label {font-family: monospace;font-weight: bold;display: inline-block;line-height: 1.2em;}#sk-container-id-2 div.sk-label-container {text-align: center;}#sk-container-id-2 div.sk-container {/* jupyter's `normalize.less` sets `[hidden] { display: none; }` but bootstrap.min.css set `[hidden] { display: none !important; }` so we also need the `!important` here to be able to override the default hidden behavior on the sphinx rendered scikit-learn.org. See: https://github.com/scikit-learn/scikit-learn/issues/21755 */display: inline-block !important;position: relative;}#sk-container-id-2 div.sk-text-repr-fallback {display: none;}</style><div id=\"sk-container-id-2\" class=\"sk-top-container\"><div class=\"sk-text-repr-fallback\"><pre>LinearRegression()</pre><b>In a Jupyter environment, please rerun this cell to show the HTML representation or trust the notebook. <br />On GitHub, the HTML representation is unable to render, please try loading this page with nbviewer.org.</b></div><div class=\"sk-container\" hidden><div class=\"sk-item\"><div class=\"sk-estimator sk-toggleable\"><input class=\"sk-toggleable__control sk-hidden--visually\" id=\"sk-estimator-id-2\" type=\"checkbox\" checked><label for=\"sk-estimator-id-2\" class=\"sk-toggleable__label sk-toggleable__label-arrow\">LinearRegression</label><div class=\"sk-toggleable__content\"><pre>LinearRegression()</pre></div></div></div></div></div>"
      ],
      "text/plain": [
       "LinearRegression()"
      ]
     },
     "execution_count": 21,
     "metadata": {},
     "output_type": "execute_result"
    }
   ],
   "source": [
    "regression = LinearRegression()\n",
    "regression.fit(X_train_poly,y_train)"
   ]
  },
  {
   "cell_type": "code",
   "execution_count": 22,
   "id": "781dd123",
   "metadata": {
    "execution": {
     "iopub.execute_input": "2025-10-03T20:05:30.781109Z",
     "iopub.status.busy": "2025-10-03T20:05:30.780705Z",
     "iopub.status.idle": "2025-10-03T20:05:30.789824Z",
     "shell.execute_reply": "2025-10-03T20:05:30.788192Z"
    },
    "papermill": {
     "duration": 0.019512,
     "end_time": "2025-10-03T20:05:30.791856",
     "exception": false,
     "start_time": "2025-10-03T20:05:30.772344",
     "status": "completed"
    },
    "tags": []
   },
   "outputs": [
    {
     "name": "stdout",
     "output_type": "stream",
     "text": [
      "0.7685687698788557\n"
     ]
    }
   ],
   "source": [
    "y_pred = regression.predict(X_test_poly)\n",
    "score = r2_score(y_test,y_pred)\n",
    "print(score)"
   ]
  },
  {
   "cell_type": "code",
   "execution_count": 23,
   "id": "9c14e144",
   "metadata": {
    "execution": {
     "iopub.execute_input": "2025-10-03T20:05:30.807777Z",
     "iopub.status.busy": "2025-10-03T20:05:30.807438Z",
     "iopub.status.idle": "2025-10-03T20:05:30.815614Z",
     "shell.execute_reply": "2025-10-03T20:05:30.814381Z"
    },
    "papermill": {
     "duration": 0.018903,
     "end_time": "2025-10-03T20:05:30.817772",
     "exception": false,
     "start_time": "2025-10-03T20:05:30.798869",
     "status": "completed"
    },
    "tags": []
   },
   "outputs": [
    {
     "data": {
      "text/plain": [
       "array([0.        , 2.63871762, 1.54959954])"
      ]
     },
     "execution_count": 23,
     "metadata": {},
     "output_type": "execute_result"
    }
   ],
   "source": [
    "regression.coef_"
   ]
  },
  {
   "cell_type": "code",
   "execution_count": 24,
   "id": "865cfa26",
   "metadata": {
    "execution": {
     "iopub.execute_input": "2025-10-03T20:05:30.833177Z",
     "iopub.status.busy": "2025-10-03T20:05:30.832783Z",
     "iopub.status.idle": "2025-10-03T20:05:30.840350Z",
     "shell.execute_reply": "2025-10-03T20:05:30.839070Z"
    },
    "papermill": {
     "duration": 0.017676,
     "end_time": "2025-10-03T20:05:30.842403",
     "exception": false,
     "start_time": "2025-10-03T20:05:30.824727",
     "status": "completed"
    },
    "tags": []
   },
   "outputs": [
    {
     "data": {
      "text/plain": [
       "2.076676429793281"
      ]
     },
     "execution_count": 24,
     "metadata": {},
     "output_type": "execute_result"
    }
   ],
   "source": [
    "regression.intercept_"
   ]
  },
  {
   "cell_type": "code",
   "execution_count": 25,
   "id": "ba01160e",
   "metadata": {
    "execution": {
     "iopub.execute_input": "2025-10-03T20:05:30.857864Z",
     "iopub.status.busy": "2025-10-03T20:05:30.857535Z",
     "iopub.status.idle": "2025-10-03T20:05:31.024374Z",
     "shell.execute_reply": "2025-10-03T20:05:31.023167Z"
    },
    "papermill": {
     "duration": 0.176663,
     "end_time": "2025-10-03T20:05:31.026189",
     "exception": false,
     "start_time": "2025-10-03T20:05:30.849526",
     "status": "completed"
    },
    "tags": []
   },
   "outputs": [
    {
     "data": {
      "image/png": "[encoded data removed]",
      "text/plain": [
       "<Figure size 640x480 with 1 Axes>"
      ]
     },
     "metadata": {},
     "output_type": "display_data"
    }
   ],
   "source": [
    "plt.scatter(X_train,y_train)\n",
    "plt.scatter(X_train,regression.predict(X_train_poly),color=\"r\")\n",
    "plt.show()"
   ]
  },
  {
   "cell_type": "code",
   "execution_count": 26,
   "id": "2729dff5",
   "metadata": {
    "execution": {
     "iopub.execute_input": "2025-10-03T20:05:31.042830Z",
     "iopub.status.busy": "2025-10-03T20:05:31.042473Z",
     "iopub.status.idle": "2025-10-03T20:05:31.047196Z",
     "shell.execute_reply": "2025-10-03T20:05:31.046177Z"
    },
    "papermill": {
     "duration": 0.014916,
     "end_time": "2025-10-03T20:05:31.048819",
     "exception": false,
     "start_time": "2025-10-03T20:05:31.033903",
     "status": "completed"
    },
    "tags": []
   },
   "outputs": [],
   "source": [
    "#New Data"
   ]
  }
 ],
 "metadata": {
  "kaggle": {
   "accelerator": "none",
   "dataSources": [
    {
     "datasetId": 8392005,
     "sourceId": 13244171,
     "sourceType": "datasetVersion"
    }
   ],
   "dockerImageVersionId": 31089,
   "isGpuEnabled": false,
   "isInternetEnabled": true,
   "language": "python",
   "sourceType": "notebook"
  },
  "kernelspec": {
   "display_name": "Python 3",
   "language": "python",
   "name": "python3"
  },
  "language_info": {
   "codemirror_mode": {
    "name": "ipython",
    "version": 3
   },
   "file_extension": ".py",
   "mimetype": "text/x-python",
   "name": "python",
   "nbconvert_exporter": "python",
   "pygments_lexer": "ipython3",
   "version": "3.11.13"
  },
  "papermill": {
   "default_parameters": {},
   "duration": 14.315852,
   "end_time": "2025-10-03T20:05:31.879359",
   "environment_variables": {},
   "exception": null,
   "input_path": "__notebook__.ipynb",
   "output_path": "__notebook__.ipynb",
   "parameters": {},
   "start_time": "2025-10-03T20:05:17.563507",
   "version": "2.6.0"
  }
 },
 "nbformat": 4,
 "nbformat_minor": 5
}
